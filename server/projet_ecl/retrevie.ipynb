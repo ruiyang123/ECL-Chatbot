{
 "cells": [
  {
   "cell_type": "code",
   "execution_count": 2,
   "metadata": {},
   "outputs": [],
   "source": [
    "import nltk\n",
    "import numpy as np\n",
    "import random\n",
    "import string\n",
    "from io import open\n",
    "import unicodedata\n",
    "import re\n",
    "import random\n",
    "import os"
   ]
  },
  {
   "cell_type": "code",
   "execution_count": 3,
   "metadata": {},
   "outputs": [],
   "source": [
    "dirname = \"C://Users//ruiya//Desktop//projet_ecl\"\n",
    "\n",
    "DATA_FILE_retrieve = os.path.join(dirname,'new_data')"
   ]
  },
  {
   "cell_type": "code",
   "execution_count": 10,
   "metadata": {},
   "outputs": [],
   "source": [
    "def unicodeToAscii(s):\n",
    "    return ''.join(\n",
    "        c for c in unicodedata.normalize('NFD', s)\n",
    "        if unicodedata.category(c) != 'Mn'\n",
    "    )\n",
    "\n",
    "def normalizeString(s):\n",
    "    s = unicodeToAscii(s.lower().strip())\n",
    "    s = re.sub(r\"(['\\'()/&!{}\\-\\’||,◊:.])\", r\" \", s)\n",
    "    #s = re.sub(r\"[^a-zA-Z.!?]+\", r\" \", s)\n",
    "    #s = re.sub(r\"[^a-zA-Z0-9?]+\", r\" \", s)\n",
    "    #s = re.sub(r\"[^a-zA-Z0-9?&\\'\\’\\%\\-]+\", r\" \", s)\n",
    "    #s = re.sub(r\"[^a-zA-Z0-9?&\\%\\-]+\", r\" \", s)\n",
    "    return s"
   ]
  },
  {
   "cell_type": "code",
   "execution_count": 3,
   "metadata": {},
   "outputs": [],
   "source": [
    "stopwords = 'de du des d le la les l ce c ci ça m me ma si t sur n en s si a y au un une on il nous vous je j a b c d e r f avoir '.split()\n",
    "\n",
    "#stopwords = []\n",
    "\n",
    "def TrimWordsSentence(sentence):\n",
    "    resultwords = [word for word in sentence.split() if word.lower() not in stopwords]\n",
    "    resultwords = ' '.join(resultwords)\n",
    "    return resultwords"
   ]
  },
  {
   "cell_type": "code",
   "execution_count": 4,
   "metadata": {},
   "outputs": [],
   "source": [
    "from nltk.stem.snowball import FrenchStemmer\n",
    "stemmer = FrenchStemmer()\n",
    "\n",
    "def stemString(s,stemmer):\n",
    "    new_str = \"\"\n",
    "    for i in s.split(' '):\n",
    "        new_str = new_str + \" \" + stemmer.stem(i)\n",
    "    return new_str"
   ]
  },
  {
   "cell_type": "code",
   "execution_count": 6,
   "metadata": {},
   "outputs": [
    {
     "data": {
      "text/plain": [
       "'C:\\\\Users\\\\ruiya\\\\TP2_PGM_2020'"
      ]
     },
     "execution_count": 6,
     "metadata": {},
     "output_type": "execute_result"
    }
   ],
   "source": []
  },
  {
   "cell_type": "code",
   "execution_count": null,
   "metadata": {},
   "outputs": [],
   "source": []
  },
  {
   "cell_type": "code",
   "execution_count": 4,
   "metadata": {},
   "outputs": [],
   "source": [
    "\n",
    "files = os.listdir(DATA_FILE_retrieve)\n",
    "\n",
    "match_dict = {}\n",
    "all_doc = []\n",
    "i = 0\n",
    "for file in files: \n",
    "    \n",
    "    doc = open('{}/{}'.format(DATA_FILE_retrieve,file), encoding='utf-8').read().strip()\n",
    "    match_dict[\"{}\".format(i)] = file\n",
    "    all_doc.append(doc)\n",
    "    i +=1\n"
   ]
  },
  {
   "cell_type": "code",
   "execution_count": 196,
   "metadata": {},
   "outputs": [
    {
     "data": {
      "text/plain": [
       "{'0': 'ue_page10.txt',\n",
       " '1': 'ue_page16.txt',\n",
       " '2': 'ue_page17.txt',\n",
       " '3': 'ue_page8.txt',\n",
       " '4': 'ue_page9.txt'}"
      ]
     },
     "execution_count": 196,
     "metadata": {},
     "output_type": "execute_result"
    }
   ],
   "source": [
    "match_dict"
   ]
  },
  {
   "cell_type": "code",
   "execution_count": 201,
   "metadata": {},
   "outputs": [],
   "source": [
    "match_dict['ue'] = \"https://drive.google.com/open?id=1zwQMGZFFG2fUhMiEJB3aiPMjXAQJ7lhq\""
   ]
  },
  {
   "cell_type": "code",
   "execution_count": 106,
   "metadata": {},
   "outputs": [
    {
     "data": {
      "text/plain": [
       "[\"AF mth tc2\\nAnalyse numérique\\nNumerical Analysis\\nResponsable(s) : Grégory Vial, Laurent Seppecher\\n| Cours : 12 h | TD : 12 h | TP : 0 h | Autonomie : 0 h | BE : 0 h | Projet : 0 h | langue du cours : |\\nObjectifs de la formation\\nCette AF a pour but de donner un aperçu des méthodes numériques utiles à l'ingénieur dans différents contextes. Les\\ntechniques décrites sont motivées par des applications, et l'accent est mis sur l'étude de la performance et des limites\\ndes méthodes.\\nMots-clés : Approximation, résolution de systèmes, intégration, équations différentielles et aux dérivées partielles,\\noptimisation.\\nProgramme Systèmes linéaires/Valeurs propres\\nOptimisation/Équations non-linéaires\\nInterpolation/Intégration numérique\\nApproximation numérique des équations différentielles ordinaires\\nDiscrétisation des équations aux dérivées partielles\\nCompétences ◊ Identifier les différentes étapes de la simulation numérique de phénomènes\\n◊ S'interroger sur la pertinence du choix des différentes méthodes utilisées dans ce processus\\n◊ Mettre en oeuvre sur ordinateur des algorithmes simples de résolution de systèmes\\n◊ Savoir combiner différentes méthodes pour l'approximation d'un problème complexe\\nTravail en\\nautonomie\\nObjectifs : Apprentissage du cours, préparation de simulations numériques simples avec Matlab.\\nMéthodes : Exercices d'entraînement.\\nBibliographie A. QUARTERONI, R. SACCO, F. SALERI. Numerical Mathematics . Springer, 2006.\\nJ.RAPPAZ,M.PICASSO. Introduction à l'analyse numérique . Presse polytecniques et universitaires\\nromandes, 1998.\\nG.ALLAIRE S.M. KABER. Algèbre linéaire numérique . Ellipses, 2002.\\nContrôle des\\nconnaissances\\nNote de savoir-faire par micro-test et note de savoir par examen terminal sans document\",\n",
       " \"AF INF tc 2\\nConception et programmation objet\\nObject-Oriented Design and Programming\\nResponsable(s) : Emmanuel Dellandréa\\n| Cours : 8 h | TD : 17 h | TP : 0 h | Autonomie : 5 h | BE : 0 h | Projet : 0 h | langue du cours : |\\nObjectifs de la formation\\nApporter aux étudiants le bagage de base concernant la démarche de conception et de développement de programmes\\navec l’approche objet.\\nCes notions seront mises en oeuvre au travers du langage Python pour la programmation et UML pour la modélisation.\\nLes cours traditionnels en amphithéâtre sont limités pour privilégier une approche par la pratique en TD et TP sur\\nmachine sous la forme d’exercices de programmation et de mini-projets.\\nMots-clés : Programmation objet, conception objet, Python, UML.\\nProgramme Introduction au génie logiciel\\nLangages de modélisations\\nConception orientée objet\\nPenser objet : classes et instance\\nEncapsulation, attributs, méthodes\\nHéritage, agrégation, composition\\nPolymorphisme et généricité\\nProgrammation objet en Python\\nCompétences ◊ Savoir établir un modèle objet d’une application informatique.\\n◊ Savoir implémenter un modèle objet en utilisant le langage Python.\\n◊ Savoir utiliser le pseudo-formalisme UML.\\n◊ Savoir mettre en oeuvre un projet informatique.\\nTravail en\\nautonomie\\nObjectifs : Comprendre et assimiler les notions de cours mises en oeuvre dans les TD.\\nMéthodes : Séances de questions/réponses avec les enseignants faisant suite aux TD pour aider à\\nla réalisation des devoirs à rendre.\\nBibliographie Bertrand Meyer. Conception et programmation orientées objet . Eyrolles, 2008.\\nDelannoy Claude. S'initier à la programmation et à l'orienté objet . Eyrolles, 2014.\\nPasc al Roqu es, Franck Vall ée. UML 2 en action : De l'analyse des besoins à la conception. Eyrolles, 2007.\\nContrôle des\\nconnaissances\\nNote de savoir (60%) : Examen écrit\\nNote de savoir-faire (40%) : Moyenne des deux devoirs à rendre\",\n",
       " \"AF INF tc 3\\nProjet d’application Web\\nWebApp Lab (Learning by doing)\\nResponsable(s) : René Chalon, Daniel Muller\\n| Cours : 8 h | TD : 10 h | TP : 0 h | Autonomie : 12 h | BE : 0 h | Projet : 0 h | langue du cours : |\\nObjectifs de la formation\\nL’objectif de cette Action de Formation est de mettre en pratique les notions et compétences introduites par les autres\\nAF dans le cadre d'un projet de groupe, concernant la conception et le développement d’une application web.\\nL'architecture de cette application sera basée sur une interface Web dynamique, et un service développé en Python côté\\nserveur.\\nLe projet consistera à concevoir une application depuis le modèle de données jusqu'aux interfaces utilisateur (IHM) en\\npassant par les interactions client-serveur.\\nMots-clés : Projet informatique, application web, service web, client-serveur, HTML5, CSS3, Javascript, Ajax, JSON,\\nPython, SQL\\nProgramme Contexte et outils du développement web\\nModèle de données\\nInterfaces utilisateur\\nArchitecture client-serveur et protocole applicatif\\nCompétences ◊ Maîtriser les outils et langages de base pour la programmation web (HTML, CSS, Javascript)\\n◊ Comprendre l'architecture client-serveur basée sur des services web\\n◊ Savoir réaliser la recette d'un logiciel\\n◊ Maîtriser les spécificités de la gestion de projet informatique (versioning)\\nTravail en\\nautonomie\\nObjectifs : Conception, développement et test d'une application.\\nMéthodes : Les étudiants sont divisés en groupe projet de 4 à 5 personnes. Ils ont à écrire un\\ncahier des charges, à livrer une application fonctionnelle et testée, et à effectuer la recette d'une\\napplication réalisée par un groupe concurrent.\\nBibliographie Wesley Hales. HTML5 and JavaScript Web Apps . O'Reilly, 2012.\\nEric Ell iot. Programming JavaScript Applications: Robust Web Architecture with Node, HTML5,\\nand Modern JS Libraries . O'Reilly, 2014.\\nLeonard Richardson, Mike Amundsen, Sam Ruby. RESTful Web APIs . O'Reilly, 2013.\\nContrôle des\\nconnaissances\\nNote de savoir (50%) : Examen écrit\\nNote de savoir-faire (50%) : note du livrable\",\n",
       " \"Présentation\\nLes compétences acquises dans l'UE Mathématiques sont transversales au sens où elles sont applicables dans les\\nautres UE du tronc commun.Cette UE présente des outils de résolution pour des classes de problèmes abstraits dont\\nla formalisation fait intervenir des modèles déterministes ou non déterministes. Ces modèles peuvent décrire des\\nphénomènes apparaissant en physique, mécanique, économie, gestion, etc.\\nLes cours proposés apportent un cadre rigoureux pour l'analyse et la résolution de problèmes.\\nSemestre\\nS5\\nDépartement\\nMathématiques Informatique\\nÉquipes d’enseignement\\nMathématiques\\nProgramme\\nMTH tc 1 : Analyse appliquée\\nMTH tc 2 : Analyse numérique\\nMTH tc 3 : Probabilités Statistique\\nMTH tc 4 : Mathématiques adaptées I algèbre-analyse\\nMTH tc 5 : Mathématiques adaptées II probabilités-statistique\\nCompétences visées par l’UE\\n◊ Utiliser un concept ou un principe mathématique pour décrire un problème\\n◊ Modéliser une expérience aléatoire à l’aide de variables aléatoires\\n◊ Identifier les différentes étapes de la simulation numérique de phénomènes\\n◊ Maîtriser les outils de base de l'analyse mathématique\\n◊ Utiliser les fonctions de base d'un logiciel pour le calcul numérique ou la statistique\\nPré-requis\\nIntégrales de fonctions continues par morceaux, convergence de suites et de séries, espace vectoriel, espace normé,\\nmatrice, valeur propre, calcul des probabilités sur un univers fini ou dénombrable, variable aléatoire discrète\\nÉvaluation\\nMoyenne pondérée: MTH tc1/tc4 : 40%, MTH tc2 : 30%, MTH tc3/tc5 : 30%\",\n",
       " \"AF MTH TC1\\nAnalyse appliquée\\nApplied analysis\\nResponsable(s) : Martine Marion, Philippe Michel\\n| Cours : 18 h | TD : 20 h | TP : 0 h | Autonomie : 0 h | BE : 0 h | Projet : 0 h | langue du cours : |\\nObjectifs de la formation\\nCette AF présente les outils de base de l’analyse mathématique nécessaires à l’étude des modèles rencontrés dans\\nl’ingénierie et la recherche.\\nMots-clés : Analyse mathématique, intégration, optimisation, équations différentielles ordinaires.\\nProgramme Topologie et calcul différentiel\\nIntégration et notion de dérivée faible\\nOptimisation : extremums libres et liés\\nEquations différentielles ordinaires\\nCompétences ◊ Maîtriser le calcul intégral et différentiel.\\n◊ Être capable d'étudier un problème d'optimisation sans ou avec contrainte, existence\\nd'extremum, conditions d'optimalité, multiplicateurs de Lagrange\\n◊ Être capable d'étudier un système d'équations différentielles (existence, analyse qualitative\\nélémentaire, approximation numérique)\\n◊ Savoir situer le degré de difficulté dans l'analyse mathématique d'un problème\\nTravail en\\nautonomie\\nObjectifs : Permettre aux élèves de mettre en oeuvre les méthodes vues en cours sur des\\nexemples concrets.\\nMéthodes : Des fiches d'exercices corrigés sont proposés sur la plateforme pédagogique.\\nBibliographie J. Saint Raymond. Topologie, calcul différentiel et variable complexe . Calvage et Mounet, 2008.\\nS. Benzoni. Calcul différentiel et équations différentielles . Dunod, 2014.\\nM. Briane,G. Pagès. Analyse - théorie de l'intégration . Vuibert, 2012.\\nContrôle des\\nconnaissances\\nNote de savoir par examen terminal sans document\\n1 BE de 2h sur la partie Equations Différentielles Ordinaires\\n80% savoir\\n20% savoir faire\"]"
      ]
     },
     "execution_count": 106,
     "metadata": {},
     "output_type": "execute_result"
    }
   ],
   "source": [
    "all_doc"
   ]
  },
  {
   "cell_type": "code",
   "execution_count": 107,
   "metadata": {},
   "outputs": [],
   "source": [
    "def LemNormalize(doc):\n",
    "    doc = stemString(doc,stemmer)\n",
    "    doc = unicodeToAscii(doc)\n",
    "    doc = normalizeString(doc)\n",
    "    doc = TrimWordsSentence(doc)\n",
    "    words = nltk.word_tokenize(doc)\n",
    "    return words"
   ]
  },
  {
   "cell_type": "code",
   "execution_count": 108,
   "metadata": {},
   "outputs": [],
   "source": [
    "from sklearn.feature_extraction.text import TfidfVectorizer"
   ]
  },
  {
   "cell_type": "code",
   "execution_count": 109,
   "metadata": {},
   "outputs": [],
   "source": [
    "from sklearn.metrics.pairwise import cosine_similarity"
   ]
  },
  {
   "cell_type": "code",
   "execution_count": 213,
   "metadata": {},
   "outputs": [],
   "source": [
    "import copy\n",
    "\n",
    "def key_search(question,all_doc,match_dict):\n",
    "    new_doc = copy.deepcopy(all_doc)\n",
    "    TfidfVec = TfidfVectorizer(tokenizer=LemNormalize)\n",
    "    new_doc.append(question)\n",
    "    tfidf = TfidfVec.fit_transform(new_doc)\n",
    "    vals = cosine_similarity(tfidf[-1],tfidf)\n",
    "    ind = vals.argsort()[0][-3:-1]\n",
    "    for i in ind:\n",
    "        answer = match_dict[\"{}\".format(i)]\n",
    "        doc_site = match_dict[\"{}\".format(answer.split(\"_\")[0])]\n",
    "        print(\"you can find the whole document here ; {} in {}\".format(doc_site,answer.split(\"_\")[-1].split(\".\")[0]))\n",
    "    return ind\n"
   ]
  },
  {
   "cell_type": "code",
   "execution_count": 214,
   "metadata": {},
   "outputs": [
    {
     "name": "stdout",
     "output_type": "stream",
     "text": [
      "you can find the whole document here ; https://drive.google.com/open?id=1zwQMGZFFG2fUhMiEJB3aiPMjXAQJ7lhq in page9\n",
      "you can find the whole document here ; https://drive.google.com/open?id=1zwQMGZFFG2fUhMiEJB3aiPMjXAQJ7lhq in page8\n"
     ]
    }
   ],
   "source": [
    "val = key_search(\"inf tc1\",all_doc,match_dict)"
   ]
  },
  {
   "cell_type": "code",
   "execution_count": 155,
   "metadata": {},
   "outputs": [
    {
     "name": "stdout",
     "output_type": "stream",
     "text": [
      "[4 3]\n"
     ]
    }
   ],
   "source": [
    "index = val.argsort()[0][-3:-1]\n",
    "print(index)"
   ]
  },
  {
   "cell_type": "code",
   "execution_count": 76,
   "metadata": {},
   "outputs": [
    {
     "data": {
      "text/plain": [
       "'ue_page16.txt'"
      ]
     },
     "execution_count": 76,
     "metadata": {},
     "output_type": "execute_result"
    }
   ],
   "source": [
    "match_dict[1]"
   ]
  },
  {
   "cell_type": "code",
   "execution_count": 68,
   "metadata": {},
   "outputs": [
    {
     "data": {
      "text/plain": [
       "array([4, 3], dtype=int64)"
      ]
     },
     "execution_count": 68,
     "metadata": {},
     "output_type": "execute_result"
    }
   ],
   "source": [
    "val"
   ]
  },
  {
   "cell_type": "code",
   "execution_count": 62,
   "metadata": {},
   "outputs": [
    {
     "data": {
      "text/plain": [
       "array([1, 4, 3], dtype=int64)"
      ]
     },
     "execution_count": 62,
     "metadata": {},
     "output_type": "execute_result"
    }
   ],
   "source": [
    "val.argsort()[0][-4:-1]\n"
   ]
  },
  {
   "cell_type": "code",
   "execution_count": 69,
   "metadata": {},
   "outputs": [
    {
     "name": "stdout",
     "output_type": "stream",
     "text": [
      "4\n",
      "3\n"
     ]
    }
   ],
   "source": [
    "for i in val:\n",
    "    print(i)"
   ]
  }
 ],
 "metadata": {
  "kernelspec": {
   "display_name": "Python 3",
   "language": "python",
   "name": "python3"
  },
  "language_info": {
   "codemirror_mode": {
    "name": "ipython",
    "version": 3
   },
   "file_extension": ".py",
   "mimetype": "text/x-python",
   "name": "python",
   "nbconvert_exporter": "python",
   "pygments_lexer": "ipython3",
   "version": "3.7.4"
  }
 },
 "nbformat": 4,
 "nbformat_minor": 2
}
