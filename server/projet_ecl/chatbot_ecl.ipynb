{
 "cells": [
  {
   "cell_type": "code",
   "execution_count": 69,
   "metadata": {},
   "outputs": [],
   "source": [
    "from __future__ import unicode_literals, print_function, division\n",
    "from io import open\n",
    "import unicodedata\n",
    "import string\n",
    "import re\n",
    "import random\n",
    "import numpy as np\n",
    "import os\n",
    "\n",
    "import torch\n",
    "import torch.nn as nn\n",
    "from torch.autograd import Variable\n",
    "from torch import optim\n",
    "import torch.nn.functional as F"
   ]
  },
  {
   "cell_type": "code",
   "execution_count": 70,
   "metadata": {},
   "outputs": [],
   "source": [
    "%matplotlib inline\n",
    "import warnings\n",
    "warnings.filterwarnings(\"ignore\")"
   ]
  },
  {
   "cell_type": "code",
   "execution_count": 71,
   "metadata": {},
   "outputs": [],
   "source": [
    "dirname = \"C://Users//ruiya//Desktop//projet_ecl\"\n",
    "DATA_FILE = os.path.join(dirname,'data//data.txt')\n",
    "ENCODER_FILE1 = os.path.join(dirname,'no_stem_checkpoints//encoder20000_para.pkl') #no use stemming\n",
    "ENCODER_FILE2 = os.path.join(dirname,'stem_checkpoints//encoder_25000_stem_ns_para.pkl') #use stemming\n",
    "DECODER_FILE1 = os.path.join(dirname,'no_stem_checkpoints//decoder20000_para.pkl') # no use stemming\n",
    "DECODER_FILE2 = os.path.join(dirname,'stem_checkpoints//decoder_25000_stem_ns_para.pkl') #use stemming"
   ]
  },
  {
   "cell_type": "markdown",
   "metadata": {},
   "source": [
    "Loading data files\n",
    "==================\n",
    "\n",
    "The data for this project is a set of questions/anwers pairs.\n"
   ]
  },
  {
   "cell_type": "markdown",
   "metadata": {},
   "source": [
    "We will be representing each word in a language as a one-hot\n",
    "vector, or giant vector of zeros except for a single one (at the index\n",
    "of the word). Compared to the dozens of characters that might exist in a\n",
    "language, there are many many more words, so the encoding vector is much\n",
    "larger. We will however cheat a bit and trim the data to only use a few\n",
    "hundred words per language."
   ]
  },
  {
   "cell_type": "markdown",
   "metadata": {},
   "source": [
    "We'll need a unique index per word to use as the inputs and targets of\n",
    "the networks later. To keep track of all this we will use a helper class\n",
    "called ``Lang`` which has word → index (``word2index``) and index → word\n",
    "(``index2word``) dictionaries, as well as a count of each word\n",
    "``word2count`` to use to later replace rare words."
   ]
  },
  {
   "cell_type": "code",
   "execution_count": 72,
   "metadata": {},
   "outputs": [],
   "source": [
    "SOS_token = 0\n",
    "EOS_token = 1\n",
    "\n",
    "class Lang:\n",
    "    def __init__(self, name):\n",
    "        self.name = name\n",
    "        self.word2index = {\"Null\" :2}\n",
    "        self.word2count = {}#count the frenquence of a word appear in the document\n",
    "        self.index2word = {0: \"SOS\", 1: \"EOS\", 2:\"Null\"} # SOS : start of sentence; EOS: end of sentence; \n",
    "        # Null : word doesn't exist in the traning data.\n",
    "        self.n_words = 3  # Count SOS and EOS and Null\n",
    "\n",
    "    def addSentence(self, sentence):\n",
    "        ''' add  a sentence to the class'''\n",
    "        for word in sentence.split():\n",
    "            if word == '':\n",
    "                print('****************',sentence)\n",
    "            self.addWord(word)\n",
    "         \n",
    "    def addWord(self, word):\n",
    "        ''' add a word to the class '''\n",
    "        if word not in self.word2index:\n",
    "            self.word2index[word] = self.n_words\n",
    "            self.word2count[word] = 1\n",
    "            self.index2word[self.n_words] = word\n",
    "            self.n_words += 1\n",
    "        else:\n",
    "            self.word2count[word] += 1"
   ]
  },
  {
   "cell_type": "markdown",
   "metadata": {},
   "source": [
    "The files are all in Unicode, to simplify we will turn Unicode\n",
    "characters to ASCII, make everything lowercase, and trim most\n",
    "punctuation.\n"
   ]
  },
  {
   "cell_type": "code",
   "execution_count": 73,
   "metadata": {},
   "outputs": [],
   "source": [
    "# Turn a Unicode string to plain ASCII, thanks to\n",
    "# http://stackoverflow.com/a/518232/2809427\n",
    "def unicodeToAscii(s):\n",
    "    return ''.join(\n",
    "        c for c in unicodedata.normalize('NFD', s)\n",
    "        if unicodedata.category(c) != 'Mn'\n",
    "    )\n",
    "\n",
    "# Lowercase, trim, and remove non-letter characters except digits\n",
    "def normalizeString(s):\n",
    "    s = unicodeToAscii(s.lower().strip())\n",
    "    s = re.sub(r\"(['\\'()/&!{}\\-\\’])\", r\" \", s)\n",
    "    #s = re.sub(r\"[^a-zA-Z.!?]+\", r\" \", s)\n",
    "    #s = re.sub(r\"[^a-zA-Z0-9?]+\", r\" \", s)\n",
    "    #s = re.sub(r\"[^a-zA-Z0-9?&\\'\\’\\%\\-]+\", r\" \", s)\n",
    "    #s = re.sub(r\"[^a-zA-Z0-9?&\\%\\-]+\", r\" \", s)\n",
    "    return s\n"
   ]
  },
  {
   "cell_type": "markdown",
   "metadata": {},
   "source": [
    "To read the data file we will split the file into lines, and then split\n",
    "lines into pairs. If we want to infer the question from the answers, the ``reverse``\n",
    "flag is added to reverse the pairs.\n"
   ]
  },
  {
   "cell_type": "code",
   "execution_count": 96,
   "metadata": {},
   "outputs": [],
   "source": [
    "def readLangs(questions, answers, reverse=False,stem=False):\n",
    "    print(\"Reading lines...\")\n",
    "        \n",
    "    lines = open(DATA_FILE, encoding='utf-8').\\\n",
    "        read().strip().split('\\n')\n",
    "    # Split every line into pairs and normalize\n",
    "    pairs = [[s for s in l.split('\\t')] for l in lines]\n",
    "    if stem:\n",
    "        for pair in pairs:\n",
    "            pair[0] = stemString(pair[0],stemmer)\n",
    "            pair[0] = normalizeString(pair[0])\n",
    "            pair[1] = normalizeString(pair[1])\n",
    "    else : \n",
    "        for pair in pairs:\n",
    "            pair[0] = normalizeString(pair[0])\n",
    "            pair[1] = normalizeString(pair[1])\n",
    "            \n",
    "    # Reverse pairs, make Lang instances\n",
    "    if reverse:\n",
    "        pairs = [list(reversed(p)) for p in pairs]\n",
    "        input_lang = Lang(answers)\n",
    "        output_lang = Lang(questions)\n",
    "    else:\n",
    "        input_lang = Lang(questions)\n",
    "        output_lang = Lang(answers)\n",
    "\n",
    "    return input_lang, output_lang, pairs"
   ]
  },
  {
   "cell_type": "code",
   "execution_count": 75,
   "metadata": {},
   "outputs": [],
   "source": [
    "MAX_LENGTH = 25\n",
    "# we use stopwords to delete those words not meaningfull\n",
    "stopwords = 'de du des d le la les l ce c ci ça m me ma si t sur n en s si a y au un une on il nous vous je j a b c d e r f avoir'.split()\n",
    "\n",
    "#stopwords = []\n",
    "\n",
    "def TrimWordsSentence(sentence):\n",
    "    resultwords = [word for word in sentence.split() if word.lower() not in stopwords]\n",
    "    resultwords = ' '.join(resultwords)\n",
    "    return resultwords\n",
    "\n",
    "def TrimWords(pairs):\n",
    "    for pair in pairs: \n",
    "        pair[0] = TrimWordsSentence(pair[0])\n",
    "        pair[1] = TrimWordsSentence(pair[1])\n",
    "    return pairs\n",
    "\n",
    "# delete longer sentences\n",
    "def filterPair(p):\n",
    "    return len(p[0].split()) < MAX_LENGTH and \\\n",
    "        len(p[1].split()) < MAX_LENGTH \n",
    "\n",
    "def filterPairs(pairs):\n",
    "    return [pair for pair in pairs if filterPair(pair)]"
   ]
  },
  {
   "cell_type": "code",
   "execution_count": 76,
   "metadata": {},
   "outputs": [
    {
     "name": "stdout",
     "output_type": "stream",
     "text": [
      " L'adresse (e-mail du) Responsable /Prospection /du {J.E.} est julien.gaubil@ecl19.ec-lyon.fr é\n",
      "l adresse  e mail du  responsable  prospection  du  j.e.  est julien.gaubil@ecl19.ec lyon.fr e\n",
      "adresse mail responsable prospection j.e. est julien.gaubil@ecl19.ec lyon.fr\n"
     ]
    }
   ],
   "source": [
    "s=\" L'adresse (e-mail du) Responsable /Prospection /du {J.E.} est julien.gaubil@ecl19.ec-lyon.fr é\"\n",
    "print(s)\n",
    "s = normalizeString(s)\n",
    "print(s)\n",
    "s = TrimWordsSentence(s)\n",
    "print(s)"
   ]
  },
  {
   "cell_type": "markdown",
   "metadata": {},
   "source": [
    "The full process for preparing the data is:\n",
    "\n",
    "-  Read text file and split into lines, split lines into pairs\n",
    "-  Normalize text, filter by length and content\n",
    "-  Make word lists from sentences in pairs"
   ]
  },
  {
   "cell_type": "code",
   "execution_count": 77,
   "metadata": {},
   "outputs": [],
   "source": [
    "def prepareData(lang1, lang2, reverse=False,stem=False):\n",
    "    input_lang, output_lang, pairs = readLangs(lang1, lang2, reverse,stem)\n",
    "    print(\"Read %s sentence pairs\" % len(pairs))\n",
    "    pairs = TrimWords(pairs)\n",
    "    \n",
    "    for pair in [pair for pair in pairs if not filterPair(pair)]:\n",
    "        print('%s (%d) -> %s (%d)' % (pair[0],len(pair[0].split()),pair[1],len(pair[1].split())))  \n",
    "    \n",
    "    pairs = filterPairs(pairs)\n",
    "    \n",
    "    print('')\n",
    "    print(\"Trimmed to %s sentence pairs\" % len(pairs))\n",
    "    print(\"Counting words...\")\n",
    "    for pair in pairs:\n",
    "        input_lang.addSentence(pair[0])\n",
    "        output_lang.addSentence(pair[1])\n",
    "        if '' in output_lang.word2index: print(pair[1].split())\n",
    "    print(\"Counted words:\")\n",
    "    print(input_lang.name, input_lang.n_words)\n",
    "    print(output_lang.name, output_lang.n_words)\n",
    "    return input_lang, output_lang, pairs"
   ]
  },
  {
   "cell_type": "code",
   "execution_count": 78,
   "metadata": {},
   "outputs": [
    {
     "name": "stdout",
     "output_type": "stream",
     "text": [
      "Reading lines...\n",
      "Read 2234 sentence pairs\n",
      "\n",
      "Trimmed to 2234 sentence pairs\n",
      "Counting words...\n",
      "Counted words:\n",
      "questions 858\n",
      "answers 2356\n"
     ]
    }
   ],
   "source": [
    "input_lang, output_lang, pairs = prepareData('questions', 'answers', False)"
   ]
  },
  {
   "cell_type": "markdown",
   "metadata": {},
   "source": [
    "Questions and answers pairs"
   ]
  },
  {
   "cell_type": "code",
   "execution_count": 79,
   "metadata": {},
   "outputs": [
    {
     "name": "stdout",
     "output_type": "stream",
     "text": [
      "['qui est trez vp compta bar ?', 'daval_tsuna_emile est trez vp compta bar']\n",
      "['quel est numero telephone trez vp compta bar ?', 'numero telephone trez vp compta bar est 0619976495']\n",
      "['quel est adresse mail trez vp compta bar ?', 'adresse mail trez vp compta bar est emile.daval@ecl19.ec lyon.fr']\n",
      "['qui est trez vp foyer bar ?', 'roszak_axo_mathieu est trez vp foyer bar']\n",
      "['quel est numero telephone trez vp foyer bar ?', 'numero telephone trez vp foyer bar est 0787824054']\n",
      "['quel est adresse mail trez vp foyer bar ?', 'adresse mail trez vp foyer bar est mathieu.roszak@laposte.net']\n",
      "['qui est vp hh bar ?', 'berre_eren_antonin est vp hh bar']\n",
      "['quel est numero telephone vp hh bar ?', 'numero telephone vp hh bar est 0652317273']\n",
      "['quel est adresse mail vp hh bar ?', 'adresse mail vp hh bar est antonin.le berre@ecl19.ec lyon.fr']\n",
      "['qui est vp hh bar ?', 'masfrand_luchot_aldric est vp hh bar']\n"
     ]
    }
   ],
   "source": [
    "for i in range(10):\n",
    "    pair = pairs[i]\n",
    "    print(pair)"
   ]
  },
  {
   "cell_type": "code",
   "execution_count": 80,
   "metadata": {},
   "outputs": [
    {
     "name": "stdout",
     "output_type": "stream",
     "text": [
      "length of input word dict: 858\n",
      "\n",
      "length of output word dict : 2356\n",
      "\n"
     ]
    }
   ],
   "source": [
    "print(\"length of input word dict: {}\\n\".format(len(input_lang.index2word)))\n",
    "print(\"length of output word dict : {}\\n\".format(len(output_lang.index2word)))"
   ]
  },
  {
   "cell_type": "markdown",
   "metadata": {},
   "source": [
    "The Seq2Seq Model\n",
    "=================\n",
    "\n",
    "A Recurrent Neural Network, or RNN, is a network that operates on a\n",
    "sequence and uses its own output as input for subsequent steps.\n",
    "\n",
    "A `Sequence to Sequence network <http://arxiv.org/abs/1409.3215>`__, or\n",
    "seq2seq network, or `Encoder Decoder\n",
    "network <https://arxiv.org/pdf/1406.1078v3.pdf>`__, is a model\n",
    "consisting of two RNNs called the encoder and decoder. The encoder reads\n",
    "an input sequence and outputs a single vector, and the decoder reads\n",
    "that vector to produce an output sequence.\n",
    "\n",
    "Unlike sequence prediction with a single RNN, where every input\n",
    "corresponds to an output, the seq2seq model frees us from sequence\n",
    "length and order, which makes it ideal for dialogue systems.\n",
    "\n",
    "With a seq2seq model the encoder creates a single vector which, in the\n",
    "ideal case, encodes the \"meaning\" of the input sequence into a single\n",
    "vector — a single point in some N dimensional space of sentences."
   ]
  },
  {
   "cell_type": "markdown",
   "metadata": {},
   "source": [
    "The Encoder\n",
    "-----------\n",
    "\n",
    "The encoder of a seq2seq network is a RNN that outputs some value for\n",
    "every word from the input sentence. For every input word the encoder\n",
    "outputs a vector and a hidden state, and uses the hidden state for the\n",
    "next input word.\n"
   ]
  },
  {
   "cell_type": "code",
   "execution_count": 81,
   "metadata": {},
   "outputs": [],
   "source": [
    "class EncoderRNN(nn.Module):\n",
    "    def __init__(self, input_size, hidden_size, n_layers=1):\n",
    "        super(EncoderRNN, self).__init__()\n",
    "        self.n_layers = n_layers\n",
    "        self.hidden_size = hidden_size\n",
    "\n",
    "        self.embedding = nn.Embedding(input_size, hidden_size)\n",
    "        self.gru = nn.GRU(hidden_size, hidden_size)\n",
    "\n",
    "    def forward(self, input, hidden):\n",
    "        embedded = self.embedding(input).view(1, 1, -1)\n",
    "        output = embedded\n",
    "        for i in range(self.n_layers):\n",
    "            output, hidden = self.gru(output, hidden)\n",
    "        return output, hidden\n",
    "\n",
    "    def initHidden(self):\n",
    "        result = Variable(torch.zeros(1, 1, self.hidden_size))\n",
    "        return result"
   ]
  },
  {
   "cell_type": "markdown",
   "metadata": {},
   "source": [
    "# Attention Decoder\n",
    "\n",
    "\n",
    "If only the context vector is passed betweeen the encoder and decoder,\n",
    "that single vector carries the burden of encoding the entire sentence.\n",
    "\n",
    "Attention allows the decoder network to \"focus\" on a different part of\n",
    "the encoder's outputs for every step of the decoder's own outputs. First\n",
    "we calculate a set of *attention weights*. These will be multiplied by\n",
    "the encoder output vectors to create a weighted combination. The result\n",
    "(called ``attn_applied`` in the code) should contain information about\n",
    "that specific part of the input sequence, and thus help the decoder\n",
    "choose the right output words.\n",
    "\n",
    "Calculating the attention weights is done with another feed-forward\n",
    "layer ``attn``, using the decoder's input and hidden state as inputs.\n",
    "Because there are sentences of all sizes in the training data, to\n",
    "actually create and train this layer we have to choose a maximum\n",
    "sentence length (input length, for encoder outputs) that it can apply\n",
    "to. Sentences of the maximum length will use all the attention weights,\n",
    "while shorter sentences will only use the first few."
   ]
  },
  {
   "cell_type": "code",
   "execution_count": 82,
   "metadata": {},
   "outputs": [],
   "source": [
    "class AttnDecoderRNN(nn.Module):\n",
    "    def __init__(self, hidden_size, output_size, n_layers=1, dropout_p=0.1, max_length=MAX_LENGTH):\n",
    "        super(AttnDecoderRNN, self).__init__()\n",
    "        self.hidden_size = hidden_size\n",
    "        self.output_size = output_size\n",
    "        self.n_layers = n_layers\n",
    "        self.dropout_p = dropout_p\n",
    "        self.max_length = max_length\n",
    "\n",
    "        self.embedding = nn.Embedding(self.output_size, self.hidden_size)\n",
    "        self.attn = nn.Linear(self.hidden_size * 2, self.max_length)\n",
    "        self.attn_combine = nn.Linear(self.hidden_size * 2, self.hidden_size)\n",
    "        self.dropout = nn.Dropout(self.dropout_p)\n",
    "        self.gru = nn.GRU(self.hidden_size, self.hidden_size)\n",
    "        self.out = nn.Linear(self.hidden_size, self.output_size)\n",
    "\n",
    "    def forward(self, input, hidden, encoder_outputs):\n",
    "        embedded = self.embedding(input).view(1, 1, -1)\n",
    "        embedded = self.dropout(embedded)\n",
    "\n",
    "        attn_weights = F.softmax(\n",
    "            self.attn(torch.cat((embedded[0], hidden[0]), 1)))#, dim=1)\n",
    "        attn_applied = torch.bmm(attn_weights.unsqueeze(0),\n",
    "                                 encoder_outputs.unsqueeze(0))\n",
    "\n",
    "        output = torch.cat((embedded[0], attn_applied[0]), 1)\n",
    "        output = self.attn_combine(output).unsqueeze(0)\n",
    "\n",
    "        for i in range(self.n_layers):\n",
    "            output = F.relu(output)\n",
    "            output, hidden = self.gru(output, hidden)\n",
    "\n",
    "        output = F.log_softmax(self.out(output[0]))#, dim=1)\n",
    "        return output, hidden, attn_weights\n",
    "\n",
    "    def initHidden(self):\n",
    "        result = Variable(torch.zeros(1, 1, self.hidden_size))\n",
    "        return result"
   ]
  },
  {
   "cell_type": "markdown",
   "metadata": {},
   "source": [
    "Note: There are other forms of attention that work around the length\n",
    "  limitation by using a relative position approach. Read about \"local\n",
    "  attention\" in `Effective Approaches to Attention-based Neural Machine\n",
    "  Translation <https://arxiv.org/abs/1508.04025>`\n",
    "\n",
    "# Training\n",
    "\n",
    "\n",
    "Preparing Training Data\n",
    "-----------------------\n",
    "\n",
    "To train, for each pair we will need an input tensor (indexes of the\n",
    "words in the input sentence) and target tensor (indexes of the words in\n",
    "the target sentence). While creating these vectors we will append the\n",
    "EOS token to both sequences."
   ]
  },
  {
   "cell_type": "code",
   "execution_count": 83,
   "metadata": {},
   "outputs": [],
   "source": [
    "def indexesFromSentence(lang, sentence,MAX_LENGTH=25):\n",
    "    words = sentence.split()\n",
    "    if len(words)>MAX_LENGTH:\n",
    "        new_words = random.choices(words,k=MAX_LENGTH)\n",
    "    else:\n",
    "        new_words = words\n",
    "    \n",
    "    \n",
    "    a = []\n",
    "    for word in new_words:\n",
    "        try:\n",
    "            a.append(lang.word2index[word])\n",
    "        except KeyError:\n",
    "            a.append(lang.word2index['Null'])\n",
    "    \n",
    "    return a\n",
    "\n",
    "def variableFromSentence(lang, sentence):\n",
    "    indexes = indexesFromSentence(lang, sentence)\n",
    "    indexes.append(EOS_token)\n",
    "    result = Variable(torch.LongTensor(indexes).view(-1, 1))\n",
    "    return result\n",
    "\n",
    "def variablesFromPair(input_lang,output_lang,pair):\n",
    "    input_variable = variableFromSentence(input_lang, pair[0])\n",
    "    target_variable = variableFromSentence(output_lang, pair[1])\n",
    "    return (input_variable, target_variable)"
   ]
  },
  {
   "cell_type": "code",
   "execution_count": 84,
   "metadata": {},
   "outputs": [
    {
     "name": "stdout",
     "output_type": "stream",
     "text": [
      "[2, 336]\n",
      "Null\n",
      "ai\n"
     ]
    }
   ],
   "source": [
    "\n",
    "print(indexesFromSentence(input_lang,\"je suis\",MAX_LENGTH))\n",
    "print(input_lang.index2word[2])#beacuse \"je\" is in the stopwords, so it correspond \"NULL\"\n",
    "print(input_lang.index2word[343])\n"
   ]
  },
  {
   "cell_type": "code",
   "execution_count": 85,
   "metadata": {},
   "outputs": [
    {
     "data": {
      "text/plain": [
       "tensor([[  2],\n",
       "        [336],\n",
       "        [  1]])"
      ]
     },
     "execution_count": 85,
     "metadata": {},
     "output_type": "execute_result"
    }
   ],
   "source": [
    "variableFromSentence(input_lang, \"je suis\")\n",
    "# token \"1\" : <EOS> END OF SENTENCE"
   ]
  },
  {
   "cell_type": "code",
   "execution_count": 86,
   "metadata": {},
   "outputs": [
    {
     "name": "stdout",
     "output_type": "stream",
     "text": [
      "(tensor([[3],\n",
      "        [4],\n",
      "        [5],\n",
      "        [6],\n",
      "        [7],\n",
      "        [8],\n",
      "        [9],\n",
      "        [1]]), tensor([[3],\n",
      "        [4],\n",
      "        [5],\n",
      "        [6],\n",
      "        [7],\n",
      "        [8],\n",
      "        [1]]))\n"
     ]
    }
   ],
   "source": [
    "print(variablesFromPair(input_lang,output_lang,pairs[0]))\n",
    "# there are two tensors one for question another for answer."
   ]
  },
  {
   "cell_type": "markdown",
   "metadata": {},
   "source": [
    "Training the Model\n",
    "------------------\n",
    "\n",
    "To train we run the input sentence through the encoder, and keep track\n",
    "of every output and the latest hidden state. Then the decoder is given\n",
    "the ``<SOS>`` token as its first input, and the last hidden state of the\n",
    "encoder as its first hidden state.\n",
    "\n",
    "\"Teacher forcing\" is the concept of using the real target outputs as\n",
    "each next input, instead of using the decoder's guess as the next input.\n",
    "Using teacher forcing causes it to converge faster but `when the trained\n",
    "network is exploited, it may exhibit\n",
    "instability <http://minds.jacobs-university.de/sites/default/files/uploads/papers/ESNTutorialRev.pdf>`.\n",
    "\n",
    "You can observe outputs of teacher-forced networks that read with\n",
    "coherent grammar but wander far from the correct answer -\n",
    "intuitively it has learned to represent the output grammar and can \"pick\n",
    "up\" the meaning once the teacher tells it the first few words, but it\n",
    "has not properly learned how to create the sentence from the answer\n",
    "in the first place.\n",
    "\n",
    "Because of the freedom PyTorch's autograd gives us, we can randomly\n",
    "choose to use teacher forcing or not with a simple if statement. Turn\n",
    "``teacher_forcing_ratio`` up to use more of it.\n",
    "\n"
   ]
  },
  {
   "cell_type": "code",
   "execution_count": 87,
   "metadata": {},
   "outputs": [],
   "source": [
    "teacher_forcing_ratio = 0.5\n",
    "\n",
    "def train(input_variable, target_variable, encoder, decoder, encoder_optimizer, decoder_optimizer, criterion, max_length=MAX_LENGTH):\n",
    "    encoder_hidden = encoder.initHidden()\n",
    "\n",
    "    encoder_optimizer.zero_grad()\n",
    "    decoder_optimizer.zero_grad()\n",
    "\n",
    "    input_length = input_variable.size()[0]\n",
    "    target_length = target_variable.size()[0]\n",
    "\n",
    "    encoder_outputs = Variable(torch.zeros(max_length, encoder.hidden_size))\n",
    "\n",
    "    loss = 0\n",
    "\n",
    "    for ei in range(input_length):\n",
    "        encoder_output, encoder_hidden = encoder(\n",
    "            input_variable[ei], encoder_hidden)\n",
    "        encoder_outputs[ei] = encoder_output[0][0]\n",
    "\n",
    "    decoder_input = Variable(torch.LongTensor([[SOS_token]]))\n",
    "\n",
    "    decoder_hidden = encoder_hidden\n",
    "\n",
    "    use_teacher_forcing = True if random.random() < teacher_forcing_ratio else False\n",
    "\n",
    "    if use_teacher_forcing:\n",
    "        # Teacher forcing: Feed the target as the next input\n",
    "        for di in range(target_length):\n",
    "            \n",
    "            decoder_output, decoder_hidden, decoder_attention = decoder(\n",
    "                decoder_input, decoder_hidden, encoder_outputs)\n",
    "            \n",
    "            #decoder_output, decoder_hidden = decoder(\n",
    "             #   decoder_input, decoder_hidden)\n",
    "            \n",
    "            loss += criterion(decoder_output, target_variable[di])\n",
    "            decoder_input = target_variable[di]  # Teacher forcing\n",
    "\n",
    "    else:\n",
    "        # Without teacher forcing: use its own predictions as the next input\n",
    "        for di in range(target_length):\n",
    "            \n",
    "            decoder_output, decoder_hidden, decoder_attention = decoder(\n",
    "                decoder_input, decoder_hidden, encoder_outputs)\n",
    "            \n",
    "            #decoder_output, decoder_hidden = decoder(\n",
    "             #   decoder_input, decoder_hidden)       \n",
    "            \n",
    "            topv, topi = decoder_output.data.topk(1)\n",
    "            ni = topi[0][0].item()\n",
    "\n",
    "            decoder_input = Variable(torch.LongTensor([[ni]]))\n",
    "            decoder_input = decoder_input\n",
    "\n",
    "            loss += criterion(decoder_output, target_variable[di])\n",
    "            if ni == EOS_token:\n",
    "                break\n",
    "\n",
    "    loss.backward()\n",
    "\n",
    "    encoder_optimizer.step()\n",
    "    decoder_optimizer.step()\n",
    "\n",
    "    #return loss.data[0] / target_length\n",
    "    return loss.item() / target_length"
   ]
  },
  {
   "cell_type": "code",
   "execution_count": 88,
   "metadata": {},
   "outputs": [],
   "source": [
    "import time\n",
    "import math\n",
    "\n",
    "def asMinutes(s):\n",
    "    m = math.floor(s / 60)\n",
    "    s -= m * 60\n",
    "    return '%dm %ds' % (m, s)\n",
    "\n",
    "def timeSince(since, percent):\n",
    "    now = time.time()\n",
    "    s = now - since\n",
    "    es = s / (percent)\n",
    "    rs = es - s\n",
    "    return '%s (- %s)' % (asMinutes(s), asMinutes(rs))"
   ]
  },
  {
   "cell_type": "code",
   "execution_count": 89,
   "metadata": {},
   "outputs": [],
   "source": [
    "def trainIters(encoder, decoder,input_lang,output_lang,new_pairs, n_iters,save_name=\"\", print_every=1000, plot_every=100, learning_rate=0.01,criterion = nn.NLLLoss()):\n",
    "   \n",
    "    start = time.time()\n",
    "    plot_losses = []\n",
    "    print_loss_total = 0  # Reset every print_every\n",
    "    plot_loss_total = 0  # Reset every plot_every\n",
    "\n",
    "    encoder_optimizer = optim.SGD(encoder.parameters(), lr=learning_rate)\n",
    "    decoder_optimizer = optim.SGD(decoder.parameters(), lr=learning_rate)\n",
    "    \n",
    "    training_pairs = [variablesFromPair(input_lang,output_lang,random.choice(new_pairs))\n",
    "                      for i in range(n_iters)]\n",
    "   # criterion = nn.NLLLoss()\n",
    "    #criterion = nn.CrossEntropyLoss()\n",
    "    for iter in range(1, n_iters + 1):\n",
    "        training_pair = training_pairs[iter - 1]\n",
    "        input_variable = training_pair[0]\n",
    "        target_variable = training_pair[1]\n",
    "\n",
    "        loss = train(input_variable, target_variable, encoder,\n",
    "                     decoder, encoder_optimizer, decoder_optimizer, criterion)\n",
    "        print_loss_total += loss\n",
    "        plot_loss_total += loss\n",
    "\n",
    "        if iter % print_every == 0:\n",
    "            print_loss_avg = print_loss_total / print_every\n",
    "            print_loss_total = 0\n",
    "            print('%s (%d %d%%) %.4f' % (timeSince(start, iter / n_iters),\n",
    "                                         iter, iter / n_iters * 100, print_loss_avg))\n",
    "\n",
    "        if iter % plot_every == 0:\n",
    "            plot_loss_avg = plot_loss_total / plot_every\n",
    "            plot_losses.append(plot_loss_avg)\n",
    "            plot_loss_total = 0\n",
    "        if iter % 5000 ==0:\n",
    "            torch.save(encoder.state_dict(),'encoder{}_{}_para.pkl'.format(save_name,iter))\n",
    "            torch.save(decoder.state_dict(),'decoder{}_{}_para.pkl'.format(save_name,iter))\n",
    "\n",
    "    showPlot(plot_losses)"
   ]
  },
  {
   "cell_type": "markdown",
   "metadata": {},
   "source": [
    "Plotting results\n",
    "----------------\n",
    "\n",
    "Plotting is done with matplotlib, using the array of loss values\n",
    "``plot_losses`` saved while training.\n"
   ]
  },
  {
   "cell_type": "code",
   "execution_count": 90,
   "metadata": {},
   "outputs": [],
   "source": [
    "import matplotlib.pyplot as plt\n",
    "import matplotlib.ticker as ticker\n",
    "import numpy as np\n",
    "\n",
    "\n",
    "def showPlot(points):\n",
    "    plt.figure()\n",
    "    fig, ax = plt.subplots()\n",
    "    # this locator puts ticks at regular intervals\n",
    "    loc = ticker.MultipleLocator(base=0.2)\n",
    "    ax.yaxis.set_major_locator(loc)\n",
    "    plt.plot(points)"
   ]
  },
  {
   "cell_type": "markdown",
   "metadata": {},
   "source": [
    "Training and Evaluating\n",
    "=======================\n",
    "\n",
    "With all these helper functions in place (it looks like extra work, but\n",
    "it's easier to run multiple experiments easier) we can actually\n",
    "initialize a network and start training.\n",
    "\n",
    "Remember that they are very few input sentences. For this small\n",
    "dataset we can use relatively small networks of 100 hidden nodes and a\n",
    "single GRU layer. After about 3 minutes on a MacBook CPU we'll get some\n",
    "reasonable results.\n",
    "\n",
    ".. Note::\n",
    "   If you run this notebook you can train, interrupt the kernel,\n",
    "   evaluate, and continue training later. Comment out the lines where the\n",
    "   encoder and decoder are initialized and run ``trainIters`` again.\n"
   ]
  },
  {
   "cell_type": "markdown",
   "metadata": {},
   "source": [
    "## One hidden layer"
   ]
  },
  {
   "cell_type": "code",
   "execution_count": 51,
   "metadata": {},
   "outputs": [],
   "source": [
    "hidden_size = 256\n",
    "#hidden_size = 100\n",
    "encoder1 = EncoderRNN(input_lang.n_words, hidden_size)\n",
    "\n",
    "attn_decoder1 = AttnDecoderRNN(hidden_size, output_lang.n_words,1, dropout_p=0.1)\n",
    "#attn_decoder1 = DecoderRNN(hidden_size, output_lang.n_words,1)\n",
    "\n",
    "#trainIters(encoder1, attn_decoder1,pairs, 75000, print_every=5000)\n",
    "#trainIters(encoder1, attn_decoder1,input_lang,output_lang,pairs, 21000,save_name=\"\", print_every=200, plot_every=100, learning_rate=0.01,criterion = nn.NLLLoss())\n",
    "   "
   ]
  },
  {
   "cell_type": "code",
   "execution_count": 52,
   "metadata": {},
   "outputs": [],
   "source": [
    "torch.save(encoder1.state_dict(),'encoder1_para.pkl')\n",
    "torch.save(attn_decoder1.state_dict(),'decoder1_para.pkl')"
   ]
  },
  {
   "cell_type": "code",
   "execution_count": 54,
   "metadata": {},
   "outputs": [
    {
     "ename": "RuntimeError",
     "evalue": "Error(s) in loading state_dict for EncoderRNN:\n\tsize mismatch for embedding.weight: copying a param with shape torch.Size([893, 256]) from checkpoint, the shape in current model is torch.Size([892, 256]).",
     "output_type": "error",
     "traceback": [
      "\u001b[1;31m---------------------------------------------------------------------------\u001b[0m",
      "\u001b[1;31mRuntimeError\u001b[0m                              Traceback (most recent call last)",
      "\u001b[1;32m<ipython-input-54-cd5c1c4cdd35>\u001b[0m in \u001b[0;36m<module>\u001b[1;34m\u001b[0m\n\u001b[1;32m----> 1\u001b[1;33m \u001b[0mencoder1\u001b[0m\u001b[1;33m.\u001b[0m\u001b[0mload_state_dict\u001b[0m\u001b[1;33m(\u001b[0m\u001b[0mtorch\u001b[0m\u001b[1;33m.\u001b[0m\u001b[0mload\u001b[0m\u001b[1;33m(\u001b[0m\u001b[0mENCODER_FILE1\u001b[0m\u001b[1;33m)\u001b[0m\u001b[1;33m)\u001b[0m\u001b[1;33m\u001b[0m\u001b[1;33m\u001b[0m\u001b[0m\n\u001b[0m\u001b[0;32m      2\u001b[0m \u001b[0mattn_decoder1\u001b[0m\u001b[1;33m.\u001b[0m\u001b[0mload_state_dict\u001b[0m\u001b[1;33m(\u001b[0m\u001b[0mtorch\u001b[0m\u001b[1;33m.\u001b[0m\u001b[0mload\u001b[0m\u001b[1;33m(\u001b[0m\u001b[0mDECODER_FILE1\u001b[0m\u001b[1;33m)\u001b[0m\u001b[1;33m)\u001b[0m\u001b[1;33m\u001b[0m\u001b[1;33m\u001b[0m\u001b[0m\n",
      "\u001b[1;32m~\\AppData\\Local\\Continuum\\anaconda3\\lib\\site-packages\\torch\\nn\\modules\\module.py\u001b[0m in \u001b[0;36mload_state_dict\u001b[1;34m(self, state_dict, strict)\u001b[0m\n\u001b[0;32m    828\u001b[0m         \u001b[1;32mif\u001b[0m \u001b[0mlen\u001b[0m\u001b[1;33m(\u001b[0m\u001b[0merror_msgs\u001b[0m\u001b[1;33m)\u001b[0m \u001b[1;33m>\u001b[0m \u001b[1;36m0\u001b[0m\u001b[1;33m:\u001b[0m\u001b[1;33m\u001b[0m\u001b[1;33m\u001b[0m\u001b[0m\n\u001b[0;32m    829\u001b[0m             raise RuntimeError('Error(s) in loading state_dict for {}:\\n\\t{}'.format(\n\u001b[1;32m--> 830\u001b[1;33m                                self.__class__.__name__, \"\\n\\t\".join(error_msgs)))\n\u001b[0m\u001b[0;32m    831\u001b[0m         \u001b[1;32mreturn\u001b[0m \u001b[0m_IncompatibleKeys\u001b[0m\u001b[1;33m(\u001b[0m\u001b[0mmissing_keys\u001b[0m\u001b[1;33m,\u001b[0m \u001b[0munexpected_keys\u001b[0m\u001b[1;33m)\u001b[0m\u001b[1;33m\u001b[0m\u001b[1;33m\u001b[0m\u001b[0m\n\u001b[0;32m    832\u001b[0m \u001b[1;33m\u001b[0m\u001b[0m\n",
      "\u001b[1;31mRuntimeError\u001b[0m: Error(s) in loading state_dict for EncoderRNN:\n\tsize mismatch for embedding.weight: copying a param with shape torch.Size([893, 256]) from checkpoint, the shape in current model is torch.Size([892, 256])."
     ]
    }
   ],
   "source": [
    "encoder1.load_state_dict(torch.load(ENCODER_FILE1))\n",
    "attn_decoder1.load_state_dict(torch.load(DECODER_FILE1))"
   ]
  },
  {
   "cell_type": "markdown",
   "metadata": {},
   "source": [
    "Evaluation\n",
    "==========\n",
    "\n",
    "Evaluation is mostly the same as training, but there are no targets so\n",
    "we simply feed the decoder's predictions back to itself for each step.\n",
    "Every time it predicts a word we add it to the output string, and if it\n",
    "predicts the EOS token we stop there. We also store the decoder's\n",
    "attention outputs for display later.\n"
   ]
  },
  {
   "cell_type": "code",
   "execution_count": 108,
   "metadata": {},
   "outputs": [],
   "source": [
    "def evaluate(encoder, decoder, input_lang,output_lang,sentence, max_length=MAX_LENGTH,stem=False):\n",
    "    sentence = unicodeToAscii(sentence)\n",
    "    if stem:\n",
    "        sentence = stemString(sentence,stemmer)\n",
    "    sentence = normalizeString(sentence)\n",
    "    sentence = TrimWordsSentence(sentence)\n",
    "    input_variable = variableFromSentence(input_lang, sentence)\n",
    "    input_length = input_variable.size()[0]\n",
    "    encoder_hidden = encoder.initHidden()\n",
    "\n",
    "    encoder_outputs = Variable(torch.zeros(max_length, encoder.hidden_size))\n",
    "\n",
    "    for ei in range(input_length):\n",
    "        encoder_output, encoder_hidden = encoder(input_variable[ei],\n",
    "                                                 encoder_hidden)\n",
    "        encoder_outputs[ei] = encoder_outputs[ei] + encoder_output[0][0]\n",
    "\n",
    "    decoder_input = Variable(torch.LongTensor([[SOS_token]]))  # SOS\n",
    "\n",
    "    decoder_hidden = encoder_hidden\n",
    "\n",
    "    decoded_words = []\n",
    "    decoder_attentions = torch.zeros(max_length, max_length)\n",
    "\n",
    "    for di in range(max_length):\n",
    "        \n",
    "        #decoder_output, decoder_hidden = decoder(\n",
    "         #   decoder_input, decoder_hidden)\n",
    "\n",
    "        decoder_output, decoder_hidden, decoder_attention = decoder(\n",
    "            decoder_input, decoder_hidden, encoder_outputs)\n",
    "        decoder_attentions[di] = decoder_attention.data\n",
    "\n",
    "        topv, topi = decoder_output.data.topk(1)\n",
    "        ni = topi[0][0].item()\n",
    "\n",
    "        if ni == EOS_token:\n",
    "            decoded_words.append('<EOS>')\n",
    "            break\n",
    "        else:\n",
    "            decoded_words.append(output_lang.index2word[ni])\n",
    "\n",
    "        decoder_input = Variable(torch.LongTensor([[ni]]))\n",
    "    print(\"norm_question : {}\".format(sentence))\n",
    "    return decoded_words, decoder_attentions[:di + 1]\n",
    "    #return decoded_words"
   ]
  },
  {
   "cell_type": "code",
   "execution_count": 56,
   "metadata": {},
   "outputs": [],
   "source": [
    "def evaluateRandomly(encoder, decoder,input_lang,output_lang, n=10,stem=False):\n",
    "    for i in range(n):\n",
    "        pair = random.choice(pairs)\n",
    "        print('>', pair[0])\n",
    "        print('=', pair[1])\n",
    "        \n",
    "        output_words, attentions = evaluate(encoder, decoder,input_lang,output_lang, pair[0],stem=stem)\n",
    "        #output_words = evaluate(encoder, decoder, pair[0])\n",
    "     \n",
    "        output_sentence = ' '.join(output_words)\n",
    "        print('<', output_sentence)\n",
    "        print('')"
   ]
  },
  {
   "cell_type": "code",
   "execution_count": 57,
   "metadata": {},
   "outputs": [
    {
     "name": "stdout",
     "output_type": "stream",
     "text": [
      "> quel est numero telephone vice-prez raid ?\n",
      "= numero telephone vice-prez raid est 07-81-33-96-83\n",
      "norm_question : quel est numero telephone vice-prez raid ?\n",
      "< convertisseurs convertisseurs studio studio options laurena.eliard@ecl19.ec-lyon.fr laurena.eliard@ecl19.ec-lyon.fr 0665116400 quentin.fustier@ecl19.ec-lyon.fr interesse,c durer interesse,c environ studio studio options laurena.eliard@ecl19.ec-lyon.fr laurena.eliard@ecl19.ec-lyon.fr dragon_delha_alice interesse,c forum gilli_jungko_michael gilli_jungko_michael gilli_jungko_michael gilli_jungko_michael\n",
      "\n",
      "> quel est adresse e-mail manager etudes j.e. ?\n",
      "= adresse e-mail manager etudes j.e. est alexandre.millet@ecl19.ec-lyon.fr\n",
      "norm_question : quel est adresse e-mail manager etudes j.e. ?\n",
      "< foucart_wackbar_flavien meme, studio options gilli_jungko_michael gilli_jungko_michael gilli_jungko_michael gilli_jungko_michael gilli_jungko_michael gilli_jungko_michael gilli_jungko_michael gilli_jungko_michael gilli_jungko_michael gilli_jungko_michael gilli_jungko_michael gilli_jungko_michael gilli_jungko_michael gilli_jungko_michael gilli_jungko_michael gilli_jungko_michael gilli_jungko_michael gilli_jungko_michael gilli_jungko_michael gilli_jungko_michael gilli_jungko_michael\n",
      "\n",
      "> quel est adresse e-mail trez bds bureau sports ?\n",
      "= adresse e-mail trez bds bureau sports est manon.schieber@ecl19.ec-lyon.fr\n",
      "norm_question : quel est adresse e-mail trez bds bureau sports ?\n",
      "< foucart_wackbar_flavien 0668146036 0652664504 studio studio options gilli_jungko_michael gilli_jungko_michael gilli_jungko_michael gilli_jungko_michael gilli_jungko_michael gilli_jungko_michael gilli_jungko_michael gilli_jungko_michael gilli_jungko_michael gilli_jungko_michael cursus luc.ruffie@ecl19.ec-lyon.fr hyppolite.morillo@ecl19.ec-lyon.fr cas numero becourt_yufoh_pierre-olivier orale studio studio\n",
      "\n",
      "> tu appelles comment ?\n",
      "= appelle nomchatbot\n",
      "norm_question : tu appelles comment ?\n",
      "< bancaire. relex bancaire. 0665116400 780446249 fossey_medda_loik 06-28-57-57-14 0781944928 0781651085 0781134065 0781134065 0781134065 0781134065 0781134065 0781134065 0781134065 0781134065 durer durer durer interesse,c mathuti.siva@gmail.com savoir_faire commun interesse,c\n",
      "\n",
      "> quel est ton nom ?\n",
      "= appelle nomchatbot\n",
      "norm_question : quel est ton nom ?\n",
      "< foucart_wackbar_flavien danse bourenane_bentoh_adam mathuti.siva@gmail.com mathuti.siva@gmail.com bruneau_ettom_marin mathuti.siva@gmail.com savoir_faire bruneau_ettom_marin mathuti.siva@gmail.com bruneau_ettom_marin mathuti.siva@gmail.com savoir_faire bruneau_ettom_marin mathuti.siva@gmail.com bruneau_ettom_marin mathuti.siva@gmail.com bruneau_ettom_marin mathuti.siva@gmail.com bruneau_ettom_marin mathuti.siva@gmail.com savoir_faire obtenir obligatoires obligatoires\n",
      "\n",
      "> quel est numero telephone prez j.e. ?\n",
      "= numero telephone prez j.e. est 0668146848\n",
      "norm_question : quel est numero telephone prez j.e. ?\n",
      "< convertisseurs convertisseurs studio studio options laurena.eliard@ecl19.ec-lyon.fr bruneau_ettom_marin mathuti.siva@gmail.com bruneau_ettom_marin mathuti.siva@gmail.com savoir_faire 0781944928 savoir_faire rame_sekah_nicolas lie ecl becourt_yufoh_pierre-olivier interesse,c becourt_yufoh_pierre-olivier numero becourt_yufoh_pierre-olivier orale buisson_leemouh_hippolyte 0665116400 orale\n",
      "\n",
      "> qu est-ce que ecs tc2 ?\n",
      "= ecs tc2 est automatique lineaire, est consacree structure et loi commande, procede siso, poursuite et regulation, systeme reference, placement poles, commande rst, analyse frequentielle.\n",
      "norm_question : qu est-ce que ecs tc2 ?\n",
      "< danse demarche danse bourenane_bentoh_adam mathuti.siva@gmail.com savoir_faire laurena.eliard@ecl19.ec-lyon.fr bruneau_ettom_marin mathuti.siva@gmail.com bruneau_ettom_marin mathuti.siva@gmail.com savoir_faire obtenir obligatoires obligatoires obligatoires obligatoires obligatoires obligatoires obligatoires serial hyppolite.morillo@ecl19.ec-lyon.fr contenu fossey_medda_loik 06-28-57-57-14\n",
      "\n",
      "> est-ce que tous cours sont site doua ?\n",
      "= oui\n",
      "norm_question : est-ce que tous cours sont site doua ?\n",
      "< foucart_wackbar_flavien 0668146036 0652664504 becourt_yufoh_pierre-olivier chatbot. interesse,c 06-28-57-57-14 durer durer interesse,c environ durer interesse,c environ becourt_yufoh_pierre-olivier interesse,c environ forum studio studio options gilli_jungko_michael gilli_jungko_michael gilli_jungko_michael gilli_jungko_michael\n",
      "\n",
      "> quel est numero telephone vice-prez bde bureau eleves ?\n",
      "= numero telephone vice-prez bde bureau eleves est 0606871592\n",
      "norm_question : quel est numero telephone vice-prez bde bureau eleves ?\n",
      "< web, web, obligatoires obligatoires obligatoires obligatoires obligatoires obligatoires obligatoires obligatoires obligatoires obligatoires obligatoires obligatoires studio demandees bu prerequis fossey_medda_loik prerequis titulaires obligatoires obligatoires obligatoires obligatoires\n",
      "\n",
      "> pourquoi faire master ?\n",
      "= pour se former metier data scientist\n",
      "norm_question : pourquoi faire master ?\n",
      "< 100% noemie.sivignon@ecl19.ec-lyon.fr ledoux_waloo_matthieu bourenane_bentoh_adam ledoux_waloo_matthieu abdelilah.tahlil@ecl19.ec-lyon.fr forum studio studio options laurena.eliard@ecl19.ec-lyon.fr forum gilli_jungko_michael gilli_jungko_michael gilli_jungko_michael gilli_jungko_michael gilli_jungko_michael gilli_jungko_michael gilli_jungko_michael gilli_jungko_michael gilli_jungko_michael gilli_jungko_michael gilli_jungko_michael gilli_jungko_michael gilli_jungko_michael\n",
      "\n"
     ]
    }
   ],
   "source": [
    "evaluateRandomly(encoder1, attn_decoder1,input_lang,output_lang)"
   ]
  },
  {
   "cell_type": "markdown",
   "metadata": {},
   "source": [
    "Visualizing Attention\n",
    "---------------------\n",
    "\n",
    "A useful property of the attention mechanism is its highly interpretable\n",
    "outputs. Because it is used to weight specific encoder outputs of the\n",
    "input sequence, we can imagine looking where the network is focused most\n",
    "at each time step.\n",
    "\n",
    "We simply run ``plt.matshow(attentions)`` to see attention output\n",
    "displayed as a matrix, with the columns being input steps and rows being\n",
    "output steps:"
   ]
  },
  {
   "cell_type": "code",
   "execution_count": 91,
   "metadata": {},
   "outputs": [
    {
     "name": "stdout",
     "output_type": "stream",
     "text": [
      "norm_question : data science ?\n"
     ]
    },
    {
     "data": {
      "image/png": "[encoded data removed]",
      "text/plain": [
       "<Figure size 432x288 with 2 Axes>"
      ]
     },
     "metadata": {
      "needs_background": "light"
     },
     "output_type": "display_data"
    }
   ],
   "source": [
    "def showAttention(input_sentence, output_words, attentions):\n",
    "    # Set up figure with colorbar\n",
    "    fig = plt.figure()\n",
    "    ax = fig.add_subplot(111)\n",
    "    cax = ax.matshow(attentions.numpy(), cmap='bone')\n",
    "    fig.colorbar(cax)\n",
    "\n",
    "    # Set up axes\n",
    "    ax.set_xticklabels([''] + input_sentence.split(' ') +\n",
    "                       ['<EOS>'], rotation=90)\n",
    "    ax.set_yticklabels([''] + output_words)\n",
    "\n",
    "    # Show label at every tick\n",
    "    ax.xaxis.set_major_locator(ticker.MultipleLocator(1))\n",
    "    ax.yaxis.set_major_locator(ticker.MultipleLocator(1))\n",
    "\n",
    "    plt.show()\n",
    "\n",
    "def evaluateAndShowAttention(input_sentence,encoder1,attn_decoder1,input_lang,output_lang):\n",
    "    output_words, attentions = evaluate(\n",
    "        encoder1, attn_decoder1,input_lang,output_lang,input_sentence)\n",
    "    showAttention(input_sentence, output_words, attentions)\n",
    "\n",
    "evaluateAndShowAttention(TrimWordsSentence(\"data science ?\"),encoder1,attn_decoder1,input_lang,output_lang)"
   ]
  },
  {
   "cell_type": "markdown",
   "metadata": {},
   "source": [
    "## Test our model"
   ]
  },
  {
   "cell_type": "markdown",
   "metadata": {},
   "source": [
    "#### 1. Does the order matter"
   ]
  },
  {
   "cell_type": "code",
   "execution_count": 59,
   "metadata": {},
   "outputs": [],
   "source": [
    "def chat(encoder,decoder,input_lang,output_lang,sentence,stem=False):\n",
    "    answer = ''\n",
    "    for i in evaluate(encoder,decoder,input_lang,output_lang,sentence,stem)[0] :\n",
    "        if i == \"<EOS>\":\n",
    "            break\n",
    "        answer = answer + ' ' + i\n",
    "    print(\"question : {}\\n\".format(sentence))\n",
    "    print(\"bot : {}\\n\".format(answer))"
   ]
  },
  {
   "cell_type": "code",
   "execution_count": 60,
   "metadata": {},
   "outputs": [],
   "source": [
    "s1 = \"il y combien de cours du mth tc1 ?\"\n",
    "s2 = \"il combien de cours y du mth tc1 ?\"\n",
    "s3 = \"cours combien mth tc1 ?\"\n",
    "s4 = \"combien cours mth tc1 ?\"\n",
    "s5 = \"tc1 mth cours combien ?\""
   ]
  },
  {
   "cell_type": "code",
   "execution_count": 61,
   "metadata": {
    "scrolled": true
   },
   "outputs": [
    {
     "name": "stdout",
     "output_type": "stream",
     "text": [
      "norm_question : combien cours mth tc1 ?\n"
     ]
    },
    {
     "data": {
      "text/plain": [
       "(['convertisseurs',\n",
       "  '0665116400',\n",
       "  'cas',\n",
       "  'zanoni_mylio_alexandre',\n",
       "  'd’exeprtise,',\n",
       "  'mathuti.siva@gmail.com',\n",
       "  'bruneau_ettom_marin',\n",
       "  'mathuti.siva@gmail.com',\n",
       "  'bruneau_ettom_marin',\n",
       "  'mathuti.siva@gmail.com',\n",
       "  'bruneau_ettom_marin',\n",
       "  'mathuti.siva@gmail.com',\n",
       "  'bruneau_ettom_marin',\n",
       "  'mathuti.siva@gmail.com',\n",
       "  'savoir_faire',\n",
       "  '0781428183',\n",
       "  '0652664504',\n",
       "  'bruneau_ettom_marin',\n",
       "  'interesse,c',\n",
       "  'bruneau_ettom_marin',\n",
       "  'mathuti.siva@gmail.com',\n",
       "  'bruneau_ettom_marin',\n",
       "  'mathuti.siva@gmail.com',\n",
       "  'bruneau_ettom_marin',\n",
       "  'mathuti.siva@gmail.com'],\n",
       " tensor([[0.0331, 0.0239, 0.0440, 0.0401, 0.0482, 0.0291, 0.0388, 0.0139, 0.0199,\n",
       "          0.0321, 0.0174, 0.0380, 0.0240, 0.0575, 0.0492, 0.0144, 0.0796, 0.0342,\n",
       "          0.0434, 0.0379, 0.0358, 0.0455, 0.0168, 0.1211, 0.0621],\n",
       "         [0.0214, 0.0576, 0.0445, 0.0819, 0.0217, 0.0358, 0.0228, 0.0321, 0.0215,\n",
       "          0.0414, 0.0391, 0.0253, 0.0389, 0.0363, 0.0532, 0.0411, 0.0381, 0.0611,\n",
       "          0.0467, 0.0416, 0.0313, 0.0277, 0.0351, 0.0587, 0.0450],\n",
       "         [0.0422, 0.0259, 0.0452, 0.0480, 0.0205, 0.0494, 0.0979, 0.0232, 0.0249,\n",
       "          0.0340, 0.0249, 0.0386, 0.0294, 0.0408, 0.0623, 0.0375, 0.0331, 0.0211,\n",
       "          0.0357, 0.0654, 0.0178, 0.0320, 0.0639, 0.0640, 0.0224],\n",
       "         [0.0225, 0.0379, 0.0261, 0.0386, 0.0304, 0.0492, 0.0416, 0.0327, 0.0154,\n",
       "          0.0273, 0.0529, 0.0397, 0.0491, 0.0345, 0.0285, 0.0485, 0.0437, 0.0376,\n",
       "          0.0185, 0.0894, 0.0546, 0.0263, 0.0796, 0.0344, 0.0409],\n",
       "         [0.0352, 0.0195, 0.0439, 0.0258, 0.0164, 0.0322, 0.0217, 0.0393, 0.0455,\n",
       "          0.0233, 0.0172, 0.0343, 0.0472, 0.0161, 0.0878, 0.0492, 0.0528, 0.0977,\n",
       "          0.0607, 0.0447, 0.0233, 0.0368, 0.0693, 0.0358, 0.0242],\n",
       "         [0.0181, 0.0254, 0.0228, 0.0400, 0.0287, 0.0342, 0.0444, 0.0530, 0.0633,\n",
       "          0.0671, 0.0354, 0.0436, 0.0248, 0.0372, 0.0452, 0.0521, 0.0403, 0.0449,\n",
       "          0.0411, 0.0463, 0.0377, 0.0333, 0.0400, 0.0444, 0.0366],\n",
       "         [0.0395, 0.0372, 0.0213, 0.0329, 0.0272, 0.0731, 0.0418, 0.0571, 0.0347,\n",
       "          0.0697, 0.0714, 0.0357, 0.0138, 0.0448, 0.0395, 0.0258, 0.0579, 0.0261,\n",
       "          0.0707, 0.0160, 0.0285, 0.0394, 0.0472, 0.0091, 0.0397],\n",
       "         [0.0397, 0.0251, 0.0493, 0.0770, 0.0327, 0.0284, 0.0417, 0.0281, 0.0509,\n",
       "          0.0353, 0.0506, 0.0676, 0.0424, 0.0412, 0.0266, 0.0386, 0.0381, 0.0542,\n",
       "          0.0388, 0.0284, 0.0303, 0.0184, 0.0378, 0.0288, 0.0500],\n",
       "         [0.0387, 0.0329, 0.0225, 0.0376, 0.0333, 0.0570, 0.0599, 0.0554, 0.0380,\n",
       "          0.0700, 0.0823, 0.0350, 0.0117, 0.0394, 0.0376, 0.0234, 0.0675, 0.0249,\n",
       "          0.0721, 0.0209, 0.0247, 0.0319, 0.0446, 0.0115, 0.0274],\n",
       "         [0.0395, 0.0181, 0.0392, 0.0624, 0.0397, 0.0294, 0.0343, 0.0330, 0.0447,\n",
       "          0.0458, 0.0549, 0.0533, 0.0406, 0.0504, 0.0276, 0.0239, 0.0406, 0.0472,\n",
       "          0.0525, 0.0266, 0.0386, 0.0260, 0.0446, 0.0297, 0.0573],\n",
       "         [0.0411, 0.0444, 0.0237, 0.0334, 0.0387, 0.0543, 0.0577, 0.0409, 0.0390,\n",
       "          0.0561, 0.0793, 0.0220, 0.0132, 0.0430, 0.0441, 0.0208, 0.0922, 0.0310,\n",
       "          0.0677, 0.0221, 0.0193, 0.0321, 0.0469, 0.0119, 0.0252],\n",
       "         [0.0362, 0.0168, 0.0397, 0.0576, 0.0373, 0.0288, 0.0364, 0.0292, 0.0611,\n",
       "          0.0357, 0.0644, 0.0621, 0.0444, 0.0520, 0.0234, 0.0325, 0.0310, 0.0552,\n",
       "          0.0451, 0.0349, 0.0255, 0.0177, 0.0409, 0.0347, 0.0572],\n",
       "         [0.0268, 0.0406, 0.0214, 0.0266, 0.0406, 0.0649, 0.0478, 0.0383, 0.0281,\n",
       "          0.0586, 0.0832, 0.0246, 0.0103, 0.0405, 0.0444, 0.0179, 0.0989, 0.0294,\n",
       "          0.0947, 0.0229, 0.0207, 0.0303, 0.0553, 0.0119, 0.0210],\n",
       "         [0.0331, 0.0170, 0.0450, 0.0542, 0.0388, 0.0238, 0.0455, 0.0306, 0.0436,\n",
       "          0.0367, 0.0686, 0.0761, 0.0448, 0.0467, 0.0254, 0.0218, 0.0528, 0.0520,\n",
       "          0.0400, 0.0260, 0.0290, 0.0222, 0.0433, 0.0344, 0.0487],\n",
       "         [0.0342, 0.0289, 0.0217, 0.0420, 0.0322, 0.0414, 0.0683, 0.0419, 0.0285,\n",
       "          0.0707, 0.0762, 0.0257, 0.0114, 0.0347, 0.0407, 0.0258, 0.0959, 0.0282,\n",
       "          0.0700, 0.0272, 0.0234, 0.0428, 0.0480, 0.0156, 0.0242],\n",
       "         [0.0614, 0.0175, 0.0379, 0.0439, 0.0277, 0.0288, 0.0244, 0.0400, 0.0498,\n",
       "          0.1011, 0.0311, 0.0409, 0.0289, 0.0355, 0.0368, 0.0395, 0.0264, 0.0305,\n",
       "          0.0369, 0.0286, 0.0580, 0.0241, 0.0328, 0.0459, 0.0717],\n",
       "         [0.0510, 0.0335, 0.0366, 0.0429, 0.0358, 0.0448, 0.0762, 0.0298, 0.0349,\n",
       "          0.0400, 0.1109, 0.0356, 0.0145, 0.0411, 0.0304, 0.0497, 0.0273, 0.0215,\n",
       "          0.0367, 0.0222, 0.0351, 0.0290, 0.0579, 0.0376, 0.0249],\n",
       "         [0.0465, 0.0458, 0.0372, 0.0296, 0.0423, 0.0261, 0.0458, 0.0171, 0.0498,\n",
       "          0.0526, 0.0453, 0.0491, 0.0613, 0.0218, 0.0229, 0.0619, 0.0569, 0.0406,\n",
       "          0.0380, 0.0431, 0.0351, 0.0367, 0.0321, 0.0273, 0.0352],\n",
       "         [0.0352, 0.0151, 0.0444, 0.0515, 0.0347, 0.0239, 0.0573, 0.0380, 0.0565,\n",
       "          0.0338, 0.0768, 0.0696, 0.0589, 0.0456, 0.0174, 0.0239, 0.0461, 0.0606,\n",
       "          0.0392, 0.0258, 0.0213, 0.0244, 0.0401, 0.0244, 0.0356],\n",
       "         [0.0492, 0.0208, 0.0359, 0.0314, 0.0434, 0.0213, 0.0699, 0.0434, 0.0373,\n",
       "          0.0898, 0.0292, 0.0266, 0.0711, 0.0337, 0.0548, 0.0225, 0.0416, 0.0464,\n",
       "          0.0290, 0.0266, 0.0345, 0.0448, 0.0150, 0.0377, 0.0442],\n",
       "         [0.0336, 0.0197, 0.0309, 0.0555, 0.0330, 0.0282, 0.0465, 0.0331, 0.0515,\n",
       "          0.0346, 0.0601, 0.0629, 0.0471, 0.0526, 0.0214, 0.0265, 0.0439, 0.0610,\n",
       "          0.0393, 0.0413, 0.0272, 0.0210, 0.0608, 0.0322, 0.0358],\n",
       "         [0.0283, 0.0354, 0.0215, 0.0336, 0.0457, 0.0575, 0.0713, 0.0504, 0.0335,\n",
       "          0.0625, 0.0815, 0.0290, 0.0119, 0.0453, 0.0338, 0.0233, 0.0751, 0.0266,\n",
       "          0.0765, 0.0232, 0.0237, 0.0330, 0.0465, 0.0124, 0.0186],\n",
       "         [0.0292, 0.0160, 0.0402, 0.0448, 0.0444, 0.0235, 0.0504, 0.0346, 0.0657,\n",
       "          0.0313, 0.0428, 0.0597, 0.0411, 0.0491, 0.0293, 0.0200, 0.0505, 0.0445,\n",
       "          0.0428, 0.0320, 0.0496, 0.0265, 0.0394, 0.0335, 0.0591],\n",
       "         [0.0334, 0.0387, 0.0177, 0.0405, 0.0458, 0.0596, 0.0479, 0.0552, 0.0295,\n",
       "          0.0625, 0.0813, 0.0241, 0.0140, 0.0491, 0.0386, 0.0272, 0.0939, 0.0199,\n",
       "          0.0574, 0.0265, 0.0228, 0.0296, 0.0462, 0.0156, 0.0228],\n",
       "         [0.0380, 0.0173, 0.0349, 0.0627, 0.0280, 0.0244, 0.0408, 0.0324, 0.0404,\n",
       "          0.0435, 0.0537, 0.0794, 0.0498, 0.0403, 0.0281, 0.0276, 0.0479, 0.0633,\n",
       "          0.0382, 0.0260, 0.0394, 0.0219, 0.0556, 0.0261, 0.0401]]))"
      ]
     },
     "execution_count": 61,
     "metadata": {},
     "output_type": "execute_result"
    }
   ],
   "source": [
    "evaluate(encoder1, attn_decoder1,input_lang,output_lang,s1)"
   ]
  },
  {
   "cell_type": "code",
   "execution_count": 78,
   "metadata": {},
   "outputs": [
    {
     "name": "stdout",
     "output_type": "stream",
     "text": [
      "question : il y combien de cours du mth tc1 ?\n",
      "\n",
      "bot :  18h\n",
      "\n",
      "question : il combien de cours y du mth tc1 ?\n",
      "\n",
      "bot :  18h\n",
      "\n",
      "question : cours combien mth tc1 ?\n",
      "\n",
      "bot :  2\n",
      "\n",
      "question : combien cours mth tc1 ?\n",
      "\n",
      "bot :  18h\n",
      "\n",
      "question : tc1 mth cours combien ?\n",
      "\n",
      "bot :  20 places tout\n",
      "\n"
     ]
    }
   ],
   "source": [
    "chat(encoder1,attn_decoder1,input_lang,output_lang,s1)\n",
    "chat(encoder1,attn_decoder1,input_lang,output_lang,s2)\n",
    "chat(encoder1,attn_decoder1,input_lang,output_lang,s3)\n",
    "chat(encoder1,attn_decoder1,input_lang,output_lang,s4)\n",
    "chat(encoder1,attn_decoder1,input_lang,output_lang,s5)"
   ]
  },
  {
   "cell_type": "markdown",
   "metadata": {},
   "source": [
    "On peut trouver :\n",
    "\n",
    "- La réponse n'est pas toujours le même pour une question. C'est parce qu’ici on utilise une couche dropout. Il ajoute un peu d’aléatoire à notre modèle.\n",
    "\n",
    "- Question s1 et question s2. Ils sont exactement la même chose. C'est parce qu'ici on utilise le trimwords function. il peut effacer tous les mots qui se trouve dans le stopwords. 'il y de du' sont éliminés.\n",
    "\n",
    "- Contre le modèle bag of words, ici l'ordre compte. Parce qu'on utilise GRU cellule qui est un type de RNN."
   ]
  },
  {
   "cell_type": "code",
   "execution_count": 62,
   "metadata": {},
   "outputs": [
    {
     "name": "stdout",
     "output_type": "stream",
     "text": [
      "norm_question : combien cours mth tc1 ?\n"
     ]
    },
    {
     "data": {
      "image/png": "[encoded data removed]",
      "text/plain": [
       "<Figure size 432x288 with 2 Axes>"
      ]
     },
     "metadata": {
      "needs_background": "light"
     },
     "output_type": "display_data"
    }
   ],
   "source": [
    "evaluateAndShowAttention(TrimWordsSentence(s1),encoder1,attn_decoder1,input_lang,output_lang,)"
   ]
  },
  {
   "cell_type": "markdown",
   "metadata": {},
   "source": [
    "Si on regarde les poids d'attention, on peut constater que cours est important pour générer '18h'."
   ]
  },
  {
   "cell_type": "markdown",
   "metadata": {},
   "source": [
    "#### 2. problème point d'interrogation"
   ]
  },
  {
   "cell_type": "code",
   "execution_count": 80,
   "metadata": {},
   "outputs": [
    {
     "name": "stdout",
     "output_type": "stream",
     "text": [
      "question : combien de cours mth tc2?\n",
      "\n",
      "bot :  ne comprend pas\n",
      "\n",
      "question : combien de cours mth tc2 ?\n",
      "\n",
      "bot :  12h\n",
      "\n"
     ]
    }
   ],
   "source": [
    "q1 = \"combien de cours mth tc2?\"\n",
    "q2 = \"combien de cours mth tc2 ?\"\n",
    "chat(encoder1,attn_decoder1,input_lang,output_lang,q1)\n",
    "chat(encoder1,attn_decoder1,input_lang,output_lang,q2)"
   ]
  },
  {
   "cell_type": "markdown",
   "metadata": {},
   "source": [
    "Q1 et Q2 sont la même question, Mais le résultat est vraiment différent, parce que 'tc2?' est considéré comme un token qui n'existe pas dans notre dictionnaire. Il correspond aux \"NULL\"."
   ]
  },
  {
   "cell_type": "code",
   "execution_count": 106,
   "metadata": {},
   "outputs": [],
   "source": [
    "def Norm(ques):\n",
    "    if ques[-1] ==\"?\":\n",
    "        ques = ques[0:-1]+\" ?\"\n",
    "    return ques"
   ]
  },
  {
   "cell_type": "code",
   "execution_count": 82,
   "metadata": {},
   "outputs": [
    {
     "data": {
      "text/plain": [
       "'combien de cours mth tc2 ?'"
      ]
     },
     "execution_count": 82,
     "metadata": {},
     "output_type": "execute_result"
    }
   ],
   "source": [
    "Norm(q1)"
   ]
  },
  {
   "cell_type": "code",
   "execution_count": 104,
   "metadata": {},
   "outputs": [],
   "source": [
    "def chat(encoder,decoder,input_lang,output_lang,sentence,stem=False):\n",
    "    sentence = Norm(sentence)\n",
    "    answer = ''\n",
    "    for i in evaluate(encoder,decoder,input_lang,output_lang,sentence,stem=stem)[0] :\n",
    "        if i == \"<EOS>\":\n",
    "            break\n",
    "        answer = answer + ' ' + i\n",
    "    print(\"question : {}\\n\".format(sentence))\n",
    "    print(\"bot : {}\\n\".format(answer))"
   ]
  },
  {
   "cell_type": "markdown",
   "metadata": {},
   "source": [
    "#### 3. Stemming\n",
    "\n",
    "L'intérêt d'utiliser le stemming :\n",
    "\n",
    "- Diminuer la taille de dictionnaire, donc la complexité de calcul.\n",
    "- Compenser le problème du grammaire.\n",
    "\n",
    "Ici, pour les réponse on utilise le stemming. Mais pas pour les réponses, Parce qu'on veut les réponse sont normale."
   ]
  },
  {
   "cell_type": "code",
   "execution_count": 92,
   "metadata": {},
   "outputs": [
    {
     "data": {
      "text/plain": [
       "'animal'"
      ]
     },
     "execution_count": 92,
     "metadata": {},
     "output_type": "execute_result"
    }
   ],
   "source": [
    "from nltk.stem.snowball import FrenchStemmer\n",
    "stemmer = FrenchStemmer()\n",
    "stemmer.stem('animaux')\n"
   ]
  },
  {
   "cell_type": "code",
   "execution_count": 93,
   "metadata": {},
   "outputs": [],
   "source": [
    "def stemString(s,stemmer):\n",
    "    \n",
    "    new_str = \"\"\n",
    "    for i in s.split(' '):\n",
    "        new_str = new_str + \" \" + stemmer.stem(i)\n",
    "  \n",
    "    return new_str"
   ]
  },
  {
   "cell_type": "code",
   "execution_count": 94,
   "metadata": {},
   "outputs": [
    {
     "name": "stdout",
     "output_type": "stream",
     "text": [
      " animal sauvag\n",
      "animal sauvag\n"
     ]
    }
   ],
   "source": [
    "a = stemString(\"animaux sauvages\",stemmer)\n",
    "print(a)\n",
    "a = normalizeString(a)\n",
    "print(a)\n"
   ]
  },
  {
   "cell_type": "code",
   "execution_count": 97,
   "metadata": {},
   "outputs": [
    {
     "name": "stdout",
     "output_type": "stream",
     "text": [
      "Reading lines...\n",
      "Read 2234 sentence pairs\n",
      "\n",
      "Trimmed to 2234 sentence pairs\n",
      "Counting words...\n",
      "Counted words:\n",
      "questions 764\n",
      "answers 2356\n"
     ]
    }
   ],
   "source": [
    "input_lang_stem, output_lang_stem, pairs_stem = prepareData('questions', 'answers', False,stem=True)"
   ]
  },
  {
   "cell_type": "code",
   "execution_count": 29,
   "metadata": {},
   "outputs": [
    {
     "name": "stdout",
     "output_type": "stream",
     "text": [
      "['qui etre trez vp compta bar ?', 'daval_tsuna_emile est trez vp compta bar']\n",
      "['quel etre numero telephone trez vp compta bar ?', 'numero telephone trez vp compta bar est 0619976495']\n",
      "['quel etre adresse e-mail trez vp compta bar ?', 'adresse e-mail trez vp compta bar est emile.daval@ecl19.ec-lyon.fr']\n",
      "['qui etre trez vp foyer bar ?', 'roszak_axo_mathieu est trez vp foyer bar']\n",
      "['quel etre numero telephone trez vp foyer bar ?', 'numero telephone trez vp foyer bar est 0787824054']\n",
      "['quel etre adresse e-mail trez vp foyer bar ?', 'adresse e-mail trez vp foyer bar est mathieu.roszak@laposte.net']\n",
      "['qui etre vp hh bar ?', 'berre_eren_antonin est vp hh bar']\n",
      "['quel etre numero telephone vp hh bar ?', 'numero telephone vp hh bar est 0652317273']\n",
      "['quel etre adresse e-mail vp hh bar ?', 'adresse e-mail vp hh bar est antonin.le-berre@ecl19.ec-lyon.fr']\n",
      "['qui etre vp hh bar ?', 'masfrand_luchot_aldric est vp hh bar']\n"
     ]
    }
   ],
   "source": [
    "for i in range(10):\n",
    "    pair = pairs_stem[i]\n",
    "    print(pair)"
   ]
  },
  {
   "cell_type": "markdown",
   "metadata": {},
   "source": [
    "On peut constater que les questions sont changées. Par contre les réponse reste le même. C'est juste ce que on souhaite et puis, on va utiliser les nouvelles dict pour former un noveau modèle."
   ]
  },
  {
   "cell_type": "code",
   "execution_count": 110,
   "metadata": {},
   "outputs": [
    {
     "name": "stdout",
     "output_type": "stream",
     "text": [
      "ne comprend pas\n"
     ]
    }
   ],
   "source": [
    "new_sentence = \"je ne comprend pas\"\n",
    "output_lang_stem.addSentence(new_sentence)\n",
    "new_sentence = stemString(new_sentence,stemmer)\n",
    "new_sentence = normalizeString(new_sentence)\n",
    "#new_sentence = stemString(new_sentence)\n",
    "new_sentence = TrimWordsSentence(new_sentence)\n",
    "print(new_sentence)\n",
    "input_lang_stem.addSentence(new_sentence)"
   ]
  },
  {
   "cell_type": "code",
   "execution_count": 111,
   "metadata": {},
   "outputs": [],
   "source": [
    "\n",
    "hidden_size = 256\n",
    "encoder_stem = EncoderRNN(input_lang_stem.n_words, hidden_size,n_layers=1)\n",
    "decoder_stem = AttnDecoderRNN(hidden_size, output_lang_stem.n_words,n_layers=1, dropout_p=0.1)\n",
    "\n",
    "\n",
    "#trainIters(encoder_stem, decoder_stem,input_lang_stem,output_lang_stem,pairs_stem,20100,save_name=\"stem\", print_every=200,learning_rate=0.01)"
   ]
  },
  {
   "cell_type": "code",
   "execution_count": 112,
   "metadata": {},
   "outputs": [
    {
     "data": {
      "text/plain": [
       "<All keys matched successfully>"
      ]
     },
     "execution_count": 112,
     "metadata": {},
     "output_type": "execute_result"
    }
   ],
   "source": [
    "encoder_stem.load_state_dict(torch.load(ENCODER_FILE2))\n",
    "decoder_stem.load_state_dict(torch.load(DECODER_FILE2))"
   ]
  },
  {
   "cell_type": "code",
   "execution_count": 109,
   "metadata": {},
   "outputs": [
    {
     "name": "stdout",
     "output_type": "stream",
     "text": [
      "norm_question : ont combien td mth tc2 ?\n",
      "question : il y ont combien de td du mth tc2  ?\n",
      "\n",
      "bot :  rien\n",
      "\n",
      "norm_question : combien td mth tc2 ?\n",
      "question : il y a combien td mth tc2  ?\n",
      "\n",
      "bot :  12h\n",
      "\n"
     ]
    }
   ],
   "source": [
    "q1 = \"il y ont combien de td du mth tc2 ?\"\n",
    "q2 = \"il y a combien td mth tc2 ?\"\n",
    "chat(encoder_stem,decoder_stem,input_lang_stem,output_lang_stem,q1,stem=True)\n",
    "chat(encoder_stem,decoder_stem,input_lang_stem,output_lang_stem,q2,stem=True)"
   ]
  },
  {
   "cell_type": "code",
   "execution_count": 226,
   "metadata": {},
   "outputs": [
    {
     "name": "stdout",
     "output_type": "stream",
     "text": [
      "> quel est adresse e-mail vp parcours raid ?\n",
      "= adresse e-mail vp parcours raid est martin.greiveldinger@ecl19.ec-lyon.fr\n",
      "norm_question : quel etre adresse e-mail vp parcours raid ?\n",
      "< adresse e-mail vp parcours raid est martin.greiveldinger@ecl19.ec-lyon.fr <EOS>\n",
      "\n",
      "> quel est adresse e-mail prez cchecl club changement heure ecl ?\n",
      "= adresse e-mail prez cchecl club changement heure ecl est paul.flagel@ecl18.ec-lyon.fr\n",
      "norm_question : quel etre adresse e-mail prez cchecl club changement heure ecl ?\n",
      "< adresse e-mail prez cchecl club changement heure ecl est guillaume.parinello@ecl18.ec-lyon.fr <EOS>\n",
      "\n",
      "> combien autonomie ecs tc3 ?\n",
      "= pas autonomie\n",
      "norm_question : combien autonomie ec tc3 ?\n",
      "< rien <EOS>\n",
      "\n",
      "> comment evalue ecs tc1 ?\n",
      "= micro_test, note examen , note tp\n",
      "norm_question : comment evalue ec tc1 ?\n",
      "< micro_test, note examen note <EOS>\n",
      "\n",
      "> qui est manager etudes j.e. ?\n",
      "= otero del val_rybel_sarah est manager etudes j.e.\n",
      "norm_question : qui etre manager etude j. . ?\n",
      "< sall_tizza_aliou est manager projet event <EOS>\n",
      "\n",
      "> quel est numero telephone sg improvisation ?\n",
      "= numero telephone sg improvisation est\n",
      "norm_question : quel etre numero telephone sg improvisation ?\n",
      "< numero telephone sg improvisation est thomas.le-franc@ecl18.ec-lyon.fr <EOS>\n",
      "\n",
      "> quel est numero telephone prez short ?\n",
      "= numero telephone prez short est 0781058718\n",
      "norm_question : quel etre numero telephone prez short ?\n",
      "< numero telephone prez short est 0621039040 <EOS>\n",
      "\n",
      "> qui est chef com pole communication ?\n",
      "= bozhok_rixhou_pavlo est chef com pole communication\n",
      "norm_question : qui etre chef com pole communication ?\n",
      "< bozhok_rixhou_pavlo est chef com pole communication <EOS>\n",
      "\n",
      "> qui est vp com assoc harissa club kebab ?\n",
      "= kadiri_nobby_yoness est vp com assoc harissa club kebab\n",
      "norm_question : qui etre vp com assoc harissa club kebab ?\n",
      "< drouets_phynaud_gregoire est vp com assoc harissa club kebab <EOS>\n",
      "\n",
      "> quel est numero telephone manager prospection j.e. ?\n",
      "= numero telephone manager prospection j.e. est 0673923501\n",
      "norm_question : quel etre numero telephone manager prospection j.e . ?\n",
      "< numero telephone manager etudes centrale television network est <EOS>\n",
      "\n"
     ]
    }
   ],
   "source": [
    "evaluateRandomly(encoder_stem, decoder_stem,input_lang_stem,output_lang_stem,stem=True)"
   ]
  },
  {
   "cell_type": "markdown",
   "metadata": {},
   "source": [
    "#### 4. BeamSearch\n",
    "Algorithem :\n",
    "\n",
    "- 1. At the first decode step, consider the top k candidates.\n",
    "- 2. Generate k second words for each of these k first words.\n",
    "- 3. Choose the top k [first word, second word] combinations considering additive scores.\n",
    "- 4. For each of these k second words, choose k third words, choose the top k [first word, second word, third word] combinations.\n",
    "- 5. Repeat at each decode step.\n",
    "- 6. After k sequences terminate, choose the sequence with the best overall score."
   ]
  },
  {
   "cell_type": "code",
   "execution_count": 231,
   "metadata": {},
   "outputs": [],
   "source": [
    "import copy\n",
    "def beam_search(encoder,decoder,input_lang,output_lang,sentence,beam_size,max_length = MAX_LENGTH,stem=False):\n",
    "    sentence = unicodeToAscii(sentence)\n",
    "    if stem:\n",
    "        sentence=stemString(sentence)\n",
    "    sentence = normalizeString(sentence)\n",
    "    sentence = TrimWordsSentence(sentence)\n",
    "    input_variable = variableFromSentence(input_lang, sentence)\n",
    "    input_length = input_variable.size()[0]\n",
    "    encoder_hidden = encoder.initHidden()\n",
    "\n",
    "    encoder_outputs = Variable(torch.zeros(max_length, encoder.hidden_size))\n",
    "\n",
    "    for ei in range(input_length):\n",
    "        encoder_output, encoder_hidden = encoder(input_variable[ei],\n",
    "                                                 encoder_hidden)\n",
    "        encoder_outputs[ei] = encoder_outputs[ei] + encoder_output[0][0]\n",
    "\n",
    "    decoder_input = Variable(torch.LongTensor([[SOS_token]]))  # SOS\n",
    "\n",
    "    decoder_hidden = encoder_hidden\n",
    "\n",
    "    decoded_words = []\n",
    "    decoder_attentions = torch.zeros(max_length, max_length)\n",
    "\n",
    "    decoder_output, decoder_hidden, decoder_attention = decoder(\n",
    "        decoder_input, decoder_hidden, encoder_outputs)\n",
    "\n",
    "    topv,topi = decoder_output.data.topk(beam_size)\n",
    "\n",
    "    new_decoder_hidden = decoder_hidden.expand(beam_size,*decoder_hidden.size())\n",
    "\n",
    "    prevs_words = torch.zeros(beam_size*beam_size,MAX_LENGTH)\n",
    "\n",
    "\n",
    "    prevs_words[:,0] = SOS_token\n",
    "    scores = torch.zeros(beam_size*beam_size)\n",
    "    output_sentence = []\n",
    "    out_scores = []\n",
    "    step = 1\n",
    "    for i in range(beam_size):\n",
    "        scores[i*beam_size:(i+1)*beam_size] = topv[0][i]\n",
    "        prevs_words[i*beam_size:(i+1)*beam_size,1] = topi[0][i].item()\n",
    "        \n",
    "    while(len(out_scores)<beam_size and step<20):\n",
    "        for i in range (beam_size):\n",
    "            decoder_input = Variable(torch.LongTensor([[prevs_words[i*beam_size,step]]]))\n",
    "            decoder_hidden = new_decoder_hidden[i]\n",
    "            decoder_output, decoder_hidden, decoder_attention = decoder(\n",
    "            decoder_input, decoder_hidden, encoder_outputs)\n",
    "            topv,topi = decoder_output.data.topk(beam_size)\n",
    "            new_decoder_hidden[i] = decoder_hidden\n",
    "            for j in range(beam_size):\n",
    "                prevs_words[j+i*beam_size,step+1] = topi[0][j].item()\n",
    "\n",
    "                scores[j+i*beam_size] +=topv[0][j]\n",
    "\n",
    "\n",
    "\n",
    "        s_topv,s_topi = scores.topk(beam_size)    \n",
    "       # print(scores)\n",
    "        #print(s_topi)\n",
    "        prevs_words_copy = copy.deepcopy(prevs_words)\n",
    "        new_decoder_hidden_copy = torch.zeros(*new_decoder_hidden.size())\n",
    "        for i in range(beam_size):\n",
    "            scores[i*beam_size:(i+1)*beam_size] = s_topv[i]\n",
    "            prevs_words[i*beam_size:(i+1)*beam_size,:] = prevs_words_copy[s_topi[i],:]\n",
    "            new_decoder_hidden_copy[i] = new_decoder_hidden[s_topi[i]//beam_size]\n",
    "        new_decoder_hidden = new_decoder_hidden_copy\n",
    "        for i in range(beam_size):\n",
    "            if prevs_words[i*beam_size,step+1]==EOS_token and scores[i*beam_size].item()>-100:\n",
    "               # print(prevs_words[i*beam_size,:],scores[i*beam_size])\n",
    "                a = prevs_words[i*beam_size,:].numpy()\n",
    "                b = copy.deepcopy(a)\n",
    "                output_sentence.append(b)\n",
    "                #print(output_sentence)\n",
    "                out_scores.append(scores[i*beam_size].item())\n",
    "                scores[i*beam_size:(i+1)*beam_size] = -500\n",
    "\n",
    "\n",
    "        #print(step)     \n",
    "        step+=1\n",
    "    answer = ''\n",
    "    out_sentence = output_sentence[out_scores.index(max(out_scores))]\n",
    "    for i in out_sentence:\n",
    "        token = output_lang.index2word[i.item()]\n",
    "        if token == \"EOS\":\n",
    "            break\n",
    "        if token !=\"SOS\":\n",
    "            answer = answer + ' ' + token\n",
    "   # print(\"question : {}\\n\".format(sentence))\n",
    "   # print(\"bot : {}\\n\".format(answer))\n",
    "    return answer\n",
    "    "
   ]
  },
  {
   "cell_type": "code",
   "execution_count": 215,
   "metadata": {},
   "outputs": [],
   "source": [
    "q1 = \" combien de cours du mth tc1 ?\"\n",
    "q2 = \" combien de cours du mth tc2 ?\"\n",
    "q3 = \" combien de cours du mth tc3 ?\"\n",
    "q4 = \" combien de cours du mth tc4 ?\"\n",
    "q5 = \" combien de cours du mth tc5 ?\""
   ]
  },
  {
   "cell_type": "code",
   "execution_count": null,
   "metadata": {},
   "outputs": [],
   "source": []
  },
  {
   "cell_type": "code",
   "execution_count": 222,
   "metadata": {},
   "outputs": [
    {
     "name": "stdout",
     "output_type": "stream",
     "text": [
      "real reponse : 18\n",
      "question : combien cours mth tc1 ?\n",
      "\n",
      "bot :  18\n",
      "\n",
      "norm_question : combien cours mth tc1 ?\n",
      "question :  combien de cours du mth tc1  ?\n",
      "\n",
      "bot :  18\n",
      "\n"
     ]
    }
   ],
   "source": [
    "beam_size = 3\n",
    "print(\"real reponse : 18\")\n",
    "beam_search(encoder_stem,decoder_stem,input_lang_stem,output_lang_stem,q1,beam_size=3,max_length = MAX_LENGTH,stem=True)\n",
    "chat(encoder_stem,decoder_stem,input_lang_stem,output_lang_stem,q1,stem=True)"
   ]
  },
  {
   "cell_type": "code",
   "execution_count": 237,
   "metadata": {},
   "outputs": [],
   "source": [
    "def New_evaluateRandomly(encoder, decoder,input_lang,output_lang, n=10,stem=False):\n",
    "    for i in range(n):\n",
    "        pair = random.choice(pairs)\n",
    "        print('>', pair[0])\n",
    "        print('=', pair[1])\n",
    "        \n",
    "        output_words, attentions = evaluate(encoder, decoder,input_lang,output_lang, pair[0],stem=stem)\n",
    "        answer_stem = beam_search(encoder,decoder,input_lang,output_lang,pair[0],beam_size=3,max_length = MAX_LENGTH,stem=stem)\n",
    "    \n",
    "        output_sentence = ' '.join(output_words)\n",
    "        print('<', output_sentence)\n",
    "        print('beam_size=3 <',answer_stem)\n",
    "        print('')\n",
    "        \n",
    "        "
   ]
  },
  {
   "cell_type": "code",
   "execution_count": 238,
   "metadata": {},
   "outputs": [
    {
     "name": "stdout",
     "output_type": "stream",
     "text": [
      "> quel est adresse e-mail trez ctn centrale television network ?\n",
      "= adresse e-mail trez ctn centrale television network est fabrice.moeneclaey@ecl19.ec-lyon.fr\n",
      "norm_question : quel etre adresse e-mail trez ctn centrale television network ?\n",
      "< adresse e-mail trez ctn centrale television network est 0780357190 <EOS>\n",
      "beam_size=3 <  adresse e-mail trez centrale television network est 0780357190\n",
      "\n",
      "> qui est sg cchecl club changement heure ecl ?\n",
      "= parinello_noss_guillaume est sg cchecl club changement heure ecl\n",
      "norm_question : qui etre sg cchecl club changement heure ecl ?\n",
      "< parinello_noss_guillaume est sg cchecl club changement heure ecl <EOS>\n",
      "beam_size=3 <  parinello_noss_guillaume est cchecl club changement heure ecl\n",
      "\n",
      "> quel est adresse e-mail vp projet bar ?\n",
      "= adresse e-mail vp projet bar est gaia.vialette@orange.fr\n",
      "norm_question : quel etre adresse e-mail vp projet bar ?\n",
      "< adresse e-mail vp projet bar est 0635146009 <EOS>\n",
      "beam_size=3 <  adresse e-mail bar est 0635146009\n",
      "\n",
      "> quel est adresse e-mail vp event vp challenge ctn centrale television network ?\n",
      "= adresse e-mail vp event vp challenge ctn centrale television network est thomas.bremond@ecl19.ec-lyon.fr\n",
      "norm_question : quel etre adresse e-mail vp event vp challenge ctn centrale television network ?\n",
      "< adresse e-mail vp event vp challenge ctn centrale television network est 0622044442 <EOS>\n",
      "beam_size=3 <  adresse e-mail vp event vp event ctn centrale television network est 0622044442\n",
      "\n",
      "> qui est cloe relex relations exterieures ?\n",
      "= cywie_touille_nathan est cloe relex relations exterieures\n",
      "norm_question : qui etre cloe relex relation exterieure ?\n",
      "< laville_makhy_bastien est trez trez centrale rainbow <EOS>\n",
      "beam_size=3 <  laville_makhy_bastien est projet\n",
      "\n",
      "> qu est qu apprend ue energie electrique et commande systemes ?\n",
      "= 4 af totale, ils sont autonomie energie electrique automatique lineaire regulation et entainement electrique\n",
      "norm_question : que etre qu apprendre ue energie electriqu et commande systeme ?\n",
      "< 4 af totale, ils sont autonomie energie electrique automatique lineaire regulation et entainement electrique <EOS>\n",
      "beam_size=3 <  4 totale, ils sont autonomie energie electrique automatique lineaire regulation et entainement electrique\n",
      "\n",
      "> qui est trez pole administratif ?\n",
      "= lemery_worhta_antoine est trez pole administratif\n",
      "norm_question : qui etre trez pole administratif ?\n",
      "< ferrari_lambo_luca est trez pole administratif <EOS>\n",
      "beam_size=3 <  parinello_noss_guillaume pole administratif\n",
      "\n",
      "> quel est adresse e-mail pole com soli ?\n",
      "= adresse e-mail pole com soli est tanguy.wasson@ecl19.ec-lyon.fr\n",
      "norm_question : quel etre adresse e-mail pole com soli ?\n",
      "< adresse e-mail pole com soli est 0602359414 <EOS>\n",
      "beam_size=3 <  adresse e-mail com soli est 0602359414\n",
      "\n",
      "> quel est adresse e-mail trez allemagne ?\n",
      "= adresse e-mail trez allemagne est julien.gehrke@ecl18.ec-lyon.fr\n",
      "norm_question : quel etre adresse e-mail trez allemagn ?\n",
      "< adresse e-mail trez theatre est julie.guerra@ecl19.ec-lyon.fr <EOS>\n",
      "beam_size=3 <  adresse e-mail trez theatre est\n",
      "\n",
      "> quel est numero telephone vp argentique matos photo ?\n",
      "= numero telephone vp argentique matos photo est 0695930020\n",
      "norm_question : quel etre numero telephone vp argentique mato photo ?\n",
      "< numero telephone vp p photo photo est 0695930020 <EOS>\n",
      "beam_size=3 <  numero telephone photo est 0695930020\n",
      "\n"
     ]
    }
   ],
   "source": [
    "New_evaluateRandomly(encoder_stem,decoder_stem,input_lang_stem,output_lang_stem,stem=True)"
   ]
  },
  {
   "cell_type": "markdown",
   "metadata": {},
   "source": [
    "Principalement, ils ont le même résultat."
   ]
  },
  {
   "cell_type": "markdown",
   "metadata": {},
   "source": [
    "#### 5. Negative sampling\n",
    "- Use \"negative sampling\", i.e. sampling random words to form incorrect questions (answering the question with something like 'I don't understand your question, sorry.' in order to enforce the model recognize a questions that are not syntactically (and semantically) correct. \n",
    "The probability for selecting a word as a negative sample should be related to its frequency, with more frequent words being more likely to be selected as negative samples. "
   ]
  },
  {
   "cell_type": "code",
   "execution_count": 253,
   "metadata": {},
   "outputs": [],
   "source": [
    "## Here we create a sentence randomly.\n",
    "## We need a dictionaire to find the frequence of a word \n",
    "## We can define the length of the sentence we need\n",
    "## We use the ratio between the occurrence of a word and the total occurrence as the threshold\n",
    "## Then we use the 0-1 distribution model. If the ratio behind 0.01, we use 0.01 as threshold.\n",
    "def create_sentence(dict_w2c,sentence_length):\n",
    "    length_word = len(dict_w2c)\n",
    "    nom_tot = sum(list(dict_w2c.values()))\n",
    "    words = list(dict_w2c.keys())\n",
    "    values = list(dict_w2c.values())\n",
    "    output_sentence = []\n",
    "\n",
    "    while(len(output_sentence)<sentence_length-1):\n",
    "        #print(output_sentence)\n",
    "        i2d = random.randint(0,length_word-1)\n",
    "        val = values[i2d]\n",
    "        if (val/nom_tot<0.01):\n",
    "            if(random.random()<0.01) and words[i2d]!=\"?\":\n",
    "                output_sentence.append(words[i2d])\n",
    "        else:\n",
    "            if (random.random()< val/nom_tot) and words[i2d]!=\"?\":\n",
    "                output_sentence.append(words[i2d])\n",
    "    sentence = ' '.join(output_sentence)\n",
    "    sentence+=' ?'\n",
    "    return sentence\n",
    "        "
   ]
  },
  {
   "cell_type": "code",
   "execution_count": 254,
   "metadata": {},
   "outputs": [
    {
     "data": {
      "text/plain": [
       "'perspective donne etre ?'"
      ]
     },
     "execution_count": 254,
     "metadata": {},
     "output_type": "execute_result"
    }
   ],
   "source": [
    "create_sentence(input_lang_stem.word2count,4)"
   ]
  },
  {
   "cell_type": "code",
   "execution_count": 262,
   "metadata": {},
   "outputs": [
    {
     "name": "stdout",
     "output_type": "stream",
     "text": [
      "Reading lines...\n",
      "Read 2234 sentence pairs\n",
      "\n",
      "Trimmed to 2234 sentence pairs\n",
      "Counting words...\n",
      "Counted words:\n",
      "questions 769\n",
      "answers 2292\n"
     ]
    }
   ],
   "source": [
    "input_lang_stem, output_lang_stem, pairs_stem = prepareData('questions', 'answers', False,stem=True)"
   ]
  },
  {
   "cell_type": "code",
   "execution_count": 255,
   "metadata": {},
   "outputs": [],
   "source": [
    "create_sentence(input_lang.word2count,4)\n",
    "def create_pair(input_sentence):\n",
    "    pair = [input_sentence,\"je ne comprend pas\"]\n",
    "    return pair\n",
    "\n",
    "def add_newpair(pairs,word2count,nomb=100,length_sent=7):\n",
    "    for i in range(nomb):\n",
    "        input_sentence = create_sentence(word2count,length_sent)\n",
    "        pair = create_pair(input_sentence)\n",
    "        pairs.append(pair)\n",
    "    return pairs"
   ]
  },
  {
   "cell_type": "code",
   "execution_count": 100,
   "metadata": {},
   "outputs": [
    {
     "name": "stdout",
     "output_type": "stream",
     "text": [
      "ne comprend pas\n"
     ]
    }
   ],
   "source": [
    "new_sentence = \"je ne comprend pas\"\n",
    "output_lang_stem.addSentence(new_sentence)\n",
    "new_sentence = stemString(new_sentence,stemmer)\n",
    "new_sentence = normalizeString(new_sentence)\n",
    "#new_sentence = stemString(new_sentence)\n",
    "new_sentence = TrimWordsSentence(new_sentence)\n",
    "print(new_sentence)\n",
    "input_lang_stem.addSentence(new_sentence)"
   ]
  },
  {
   "cell_type": "code",
   "execution_count": 264,
   "metadata": {},
   "outputs": [
    {
     "name": "stdout",
     "output_type": "stream",
     "text": [
      "2234\n",
      "['langue cours mth tc1 ?', 'francais']\n",
      "2264\n",
      "['recent ville pouvons formation chercheurs atouts ?', 'je ne comprend pas']\n"
     ]
    }
   ],
   "source": [
    "## We add 30 sentences to the pairs\n",
    "print(len(pairs))\n",
    "print(pairs[-1])\n",
    "number = 30\n",
    "paris = add_newpair(pairs,input_lang.word2count,nomb=number)\n",
    "print(len(pairs))\n",
    "print(pairs[-1])"
   ]
  },
  {
   "cell_type": "code",
   "execution_count": 267,
   "metadata": {},
   "outputs": [
    {
     "name": "stdout",
     "output_type": "stream",
     "text": [
      "0m 19s (- 41m 23s) (200 0%) 4.7570\n",
      "0m 35s (- 37m 48s) (400 1%) 4.3347\n",
      "0m 53s (- 37m 24s) (600 2%) 4.3376\n",
      "1m 8s (- 36m 12s) (800 3%) 4.0763\n",
      "1m 26s (- 36m 9s) (1000 3%) 3.8895\n",
      "1m 43s (- 35m 41s) (1200 4%) 3.6826\n",
      "2m 1s (- 35m 26s) (1400 5%) 3.6923\n",
      "2m 17s (- 34m 59s) (1600 6%) 3.2983\n",
      "2m 35s (- 34m 55s) (1800 6%) 3.3031\n",
      "2m 50s (- 34m 3s) (2000 7%) 3.2221\n",
      "3m 5s (- 33m 30s) (2200 8%) 3.0738\n",
      "3m 20s (- 32m 50s) (2400 9%) 2.8254\n",
      "3m 35s (- 32m 15s) (2600 10%) 2.9557\n",
      "3m 50s (- 31m 46s) (2800 10%) 2.9496\n",
      "4m 5s (- 31m 18s) (3000 11%) 2.6010\n"
     ]
    },
    {
     "ename": "KeyboardInterrupt",
     "evalue": "",
     "output_type": "error",
     "traceback": [
      "\u001b[1;31m---------------------------------------------------------------------------\u001b[0m",
      "\u001b[1;31mKeyboardInterrupt\u001b[0m                         Traceback (most recent call last)",
      "\u001b[1;32m<ipython-input-267-9ddeb6e83c09>\u001b[0m in \u001b[0;36m<module>\u001b[1;34m\u001b[0m\n\u001b[0;32m      4\u001b[0m \u001b[1;33m\u001b[0m\u001b[0m\n\u001b[0;32m      5\u001b[0m \u001b[1;33m\u001b[0m\u001b[0m\n\u001b[1;32m----> 6\u001b[1;33m \u001b[0mtrainIters\u001b[0m\u001b[1;33m(\u001b[0m\u001b[0mencoder_stem\u001b[0m\u001b[1;33m,\u001b[0m \u001b[0mdecoder_stem\u001b[0m\u001b[1;33m,\u001b[0m\u001b[0minput_lang_stem\u001b[0m\u001b[1;33m,\u001b[0m\u001b[0moutput_lang_stem\u001b[0m\u001b[1;33m,\u001b[0m\u001b[0mpairs_stem\u001b[0m\u001b[1;33m,\u001b[0m\u001b[1;36m26000\u001b[0m\u001b[1;33m,\u001b[0m\u001b[0msave_name\u001b[0m\u001b[1;33m=\u001b[0m\u001b[1;34m\"stem_ns\"\u001b[0m\u001b[1;33m,\u001b[0m \u001b[0mprint_every\u001b[0m\u001b[1;33m=\u001b[0m\u001b[1;36m200\u001b[0m\u001b[1;33m,\u001b[0m\u001b[0mlearning_rate\u001b[0m\u001b[1;33m=\u001b[0m\u001b[1;36m0.01\u001b[0m\u001b[1;33m)\u001b[0m\u001b[1;33m\u001b[0m\u001b[1;33m\u001b[0m\u001b[0m\n\u001b[0m",
      "\u001b[1;32m<ipython-input-61-12544c744af4>\u001b[0m in \u001b[0;36mtrainIters\u001b[1;34m(encoder, decoder, input_lang, output_lang, new_pairs, n_iters, save_name, print_every, plot_every, learning_rate, criterion)\u001b[0m\n\u001b[0;32m     19\u001b[0m \u001b[1;33m\u001b[0m\u001b[0m\n\u001b[0;32m     20\u001b[0m         loss = train(input_variable, target_variable, encoder,\n\u001b[1;32m---> 21\u001b[1;33m                      decoder, encoder_optimizer, decoder_optimizer, criterion)\n\u001b[0m\u001b[0;32m     22\u001b[0m         \u001b[0mprint_loss_total\u001b[0m \u001b[1;33m+=\u001b[0m \u001b[0mloss\u001b[0m\u001b[1;33m\u001b[0m\u001b[1;33m\u001b[0m\u001b[0m\n\u001b[0;32m     23\u001b[0m         \u001b[0mplot_loss_total\u001b[0m \u001b[1;33m+=\u001b[0m \u001b[0mloss\u001b[0m\u001b[1;33m\u001b[0m\u001b[1;33m\u001b[0m\u001b[0m\n",
      "\u001b[1;32m<ipython-input-59-37c5924996a1>\u001b[0m in \u001b[0;36mtrain\u001b[1;34m(input_variable, target_variable, encoder, decoder, encoder_optimizer, decoder_optimizer, criterion, max_length)\u001b[0m\n\u001b[0;32m     54\u001b[0m             \u001b[0mdecoder_input\u001b[0m \u001b[1;33m=\u001b[0m \u001b[0mdecoder_input\u001b[0m\u001b[1;33m\u001b[0m\u001b[1;33m\u001b[0m\u001b[0m\n\u001b[0;32m     55\u001b[0m \u001b[1;33m\u001b[0m\u001b[0m\n\u001b[1;32m---> 56\u001b[1;33m             \u001b[0mloss\u001b[0m \u001b[1;33m+=\u001b[0m \u001b[0mcriterion\u001b[0m\u001b[1;33m(\u001b[0m\u001b[0mdecoder_output\u001b[0m\u001b[1;33m,\u001b[0m \u001b[0mtarget_variable\u001b[0m\u001b[1;33m[\u001b[0m\u001b[0mdi\u001b[0m\u001b[1;33m]\u001b[0m\u001b[1;33m)\u001b[0m\u001b[1;33m\u001b[0m\u001b[1;33m\u001b[0m\u001b[0m\n\u001b[0m\u001b[0;32m     57\u001b[0m             \u001b[1;32mif\u001b[0m \u001b[0mni\u001b[0m \u001b[1;33m==\u001b[0m \u001b[0mEOS_token\u001b[0m\u001b[1;33m:\u001b[0m\u001b[1;33m\u001b[0m\u001b[1;33m\u001b[0m\u001b[0m\n\u001b[0;32m     58\u001b[0m                 \u001b[1;32mbreak\u001b[0m\u001b[1;33m\u001b[0m\u001b[1;33m\u001b[0m\u001b[0m\n",
      "\u001b[1;31mKeyboardInterrupt\u001b[0m: "
     ]
    }
   ],
   "source": [
    "hidden_size = 256\n",
    "encoder_stem = EncoderRNN(input_lang_stem.n_words, hidden_size,n_layers=1)\n",
    "decoder_stem = AttnDecoderRNN(hidden_size, output_lang_stem.n_words,n_layers=1, dropout_p=0.1)\n",
    "\n",
    "\n",
    "trainIters(encoder_stem, decoder_stem,input_lang_stem,output_lang_stem,pairs_stem,26000,save_name=\"stem_ns\", print_every=200,learning_rate=0.01)"
   ]
  }
 ],
 "metadata": {
  "kernelspec": {
   "display_name": "Python 3",
   "language": "python",
   "name": "python3"
  },
  "language_info": {
   "codemirror_mode": {
    "name": "ipython",
    "version": 3
   },
   "file_extension": ".py",
   "mimetype": "text/x-python",
   "name": "python",
   "nbconvert_exporter": "python",
   "pygments_lexer": "ipython3",
   "version": "3.7.4"
  }
 },
 "nbformat": 4,
 "nbformat_minor": 2
}
